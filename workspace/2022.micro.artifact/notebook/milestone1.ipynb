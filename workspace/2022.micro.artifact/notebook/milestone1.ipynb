{
 "cells": [
  {
   "cell_type": "code",
   "execution_count": 148,
   "id": "f783aa08",
   "metadata": {},
   "outputs": [
    {
     "name": "stdout",
     "output_type": "stream",
     "text": [
      "Running evaluation sweep for unstructured sparse architecture\n",
      "Processing resnet50_conv1 with unstructured_sparse_tensor_core...\n",
      "  _______                __                \n",
      " /_  __(_)___ ___  ___  / /___  ____  ____ \n",
      "  / / / / __ `__ \\/ _ \\/ / __ \\/ __ \\/ __ \\\n",
      " / / / / / / / / /  __/ / /_/ / /_/ / /_/ /\n",
      "/_/ /_/_/ /_/ /_/\\___/_/\\____/\\____/ .___/ \n",
      "                                  /_/      \n",
      "\n",
      "Problem configuration complete.\n",
      "Found Accelergy ERT (energy reference table), replacing internal energy model.\n",
      "Found Accelergy ART (area reference table), replacing internal area model.\n",
      "Architecture configuration complete.\n",
      "Sparse optimization configuration complete.\n",
      "Using all available hardware threads = 11\n",
      "Mapper configuration complete.\n",
      "Initializing Index Factorization subspace.\n",
      "  Factorization options along problem dimension C = 6\n",
      "  Factorization options along problem dimension M = 462\n",
      "  Factorization options along problem dimension R = 6\n",
      "  Factorization options along problem dimension S = 6\n",
      "  Factorization options along problem dimension N = 1\n",
      "  Factorization options along problem dimension P = 756\n",
      "  Factorization options along problem dimension Q = 756\n",
      "Mapspace Dimension [IndexFactorization] Size: 57034720512\n",
      "Mapspace Dimension [LoopPermutation] Size: 3252016064102400000\n",
      "Mapspace Dimension [Spatial] Size: 64\n",
      "Mapspace Dimension [DatatypeBypass] Size: 512\n",
      "Mapspace split! Per-split Mapping Dimension [IndexFactorization] Size: 5184974592 Residue: 0\n",
      "Mapspace construction complete.\n",
      "Search configuration complete.\n"
     ]
    },
    {
     "name": "stderr",
     "output_type": "stream",
     "text": [
      "[  9] STATEMENT: 3600 invalid mappings (3600 fanout, 0 capacity) found since the last valid mapping, terminating search.\n",
      "[  7] STATEMENT: 3600 invalid mappings (3600 fanout, 0 capacity) found since the last valid mapping, terminating search.\n",
      "[  3] STATEMENT: 3600 invalid mappings (3600 fanout, 0 capacity) found since the last valid mapping, terminating search.\n",
      "[  5] Utilization = 0.00 | pJ/Compute =  128.229 | L3[WIO] C3 - L2[] Q1 - L1[] Q1 - L0[] Q112 P112 S7 R7 M64 \n",
      "[  0] Utilization = 0.00 | pJ/Compute =  128.229 | L3[WIO] Q1 - L2[] Q1 - L1[] Q1 - L0[] Q112 P112 S7 R7 M64 C3 \n",
      "[  8] Utilization = 0.20 | pJ/Compute =   45.372 | L3[WIO] M2 - L2[] P2 M2Y - L1[] Q14 M4 C3 R7Y M4X - L0[] Q8 P56 S7 \n",
      "[ 10] Utilization = 0.20 | pJ/Compute =   45.372 | L3[WIO] M2 - L2[] P2 C3 M2Y - L1[] Q14 M4 R7Y M4X - L0[] Q8 P56 S7 \n",
      "[  2] Utilization = 0.00 | pJ/Compute =  128.229 | L3[WIO] Q1 - L2[] Q1 - L1[] C3 - L0[] Q112 P112 S7 R7 M64 \n",
      "[  6] Utilization = 0.20 | pJ/Compute =   45.372 | L3[WIO] M2 - L2[] P2 M2Y - L1[] Q14 M4 R7Y M4X - L0[] Q8 P56 S7 C3 \n",
      "[  1] Utilization = 0.01 | pJ/Compute =   85.563 | L3[WIO] Q1 - L2[] Q1 - L1[] Q1 C3Y - L0[] Q112 P112 S7 R7 M64 \n",
      "[  4] Utilization = 0.00 | pJ/Compute =  128.229 | L3[WIO] Q1 - L2[] C3 - L1[] Q1 - L0[] Q112 P112 S7 R7 M64 \n",
      "[  1] Utilization = 0.01 | pJ/Compute =   55.148 | L3[WIO] Q1 - L2[] Q1 - L1[W] Q1 C3Y - L0[] Q112 P112 S7 R7 M64 \n",
      "[  0] Utilization = 0.00 | pJ/Compute =   97.814 | L3[WIO] Q1 - L2[] Q1 - L1[W] Q1 - L0[] Q112 P112 S7 R7 M64 C3 \n",
      "[  6] Utilization = 0.22 | pJ/Compute =   14.957 | L3[WIO] M2 - L2[] P2 M2Y - L1[W] Q14 M4 R7Y M4X - L0[] Q8 P56 S7 C3 \n",
      "[  2] Utilization = 0.00 | pJ/Compute =   97.814 | L3[WIO] Q1 - L2[] Q1 - L1[W] C3 - L0[] Q112 P112 S7 R7 M64 \n",
      "[  5] Utilization = 0.00 | pJ/Compute =   97.814 | L3[WIO] C3 - L2[] Q1 - L1[W] Q1 - L0[] Q112 P112 S7 R7 M64 \n",
      "[  8] Utilization = 0.22 | pJ/Compute =   13.456 | L3[WIO] M2 - L2[] P2 M2Y - L1[] Q14 M4 C3 R7Y M4X - L0[W] Q8 P56 S7 \n",
      "[  4] Utilization = 0.00 | pJ/Compute =   97.814 | L3[WIO] Q1 - L2[] C3 - L1[W] Q1 - L0[] Q112 P112 S7 R7 M64 \n",
      "[ 10] Utilization = 0.22 | pJ/Compute =   13.456 | L3[WIO] M2 - L2[] P2 C3 M2Y - L1[] Q14 M4 R7Y M4X - L0[W] Q8 P56 S7 \n",
      "[  0] Utilization = 0.00 | pJ/Compute =   70.051 | L3[WIO] Q1 - L2[I] Q1 - L1[W] Q1 - L0[] Q112 P112 S7 R7 M64 C3 \n",
      "[  8] Utilization = 0.22 | pJ/Compute =   13.390 | L3[WIO] M2 - L2[] P2 M2Y - L1[W] Q14 M4 C3 R7Y M4X - L0[W] Q8 P56 S7 \n",
      "[ 10] Utilization = 0.22 | pJ/Compute =   13.393 | L3[WIO] M2 - L2[] P2 C3 M2Y - L1[W] Q14 M4 R7Y M4X - L0[W] Q8 P56 S7 \n",
      "[  6] Utilization = 0.22 | pJ/Compute =   11.529 | L3[WIO] M2 - L2[I] P2 M2Y - L1[W] Q14 M4 R7Y M4X - L0[] Q8 P56 S7 C3 \n",
      "[  1] Utilization = 0.01 | pJ/Compute =   27.384 | L3[WIO] Q1 - L2[I] Q1 - L1[W] Q1 C3Y - L0[] Q112 P112 S7 R7 M64 \n",
      "[  2] Utilization = 0.00 | pJ/Compute =   70.051 | L3[WIO] Q1 - L2[I] Q1 - L1[W] C3 - L0[] Q112 P112 S7 R7 M64 \n",
      "[  5] Utilization = 0.00 | pJ/Compute =   70.051 | L3[WIO] C3 - L2[I] Q1 - L1[W] Q1 - L0[] Q112 P112 S7 R7 M64 \n",
      "[  4] Utilization = 0.00 | pJ/Compute =   70.051 | L3[WIO] Q1 - L2[I] C3 - L1[W] Q1 - L0[] Q112 P112 S7 R7 M64 \n",
      "[ 10] Utilization = 0.22 | pJ/Compute =   13.392 | L3[WIO] M2 - L2[W] P2 C3 M2Y - L1[W] Q14 M4 R7Y M4X - L0[W] Q8 P56 S7 \n",
      "[ 10] Utilization = 0.22 | pJ/Compute =   10.028 | L3[WIO] M2 - L2[I] P2 C3 M2Y - L1[] Q14 M4 R7Y M4X - L0[W] Q8 P56 S7 \n",
      "[  8] Utilization = 0.22 | pJ/Compute =   10.028 | L3[WIO] M2 - L2[I] P2 M2Y - L1[] Q14 M4 C3 R7Y M4X - L0[W] Q8 P56 S7 \n",
      "[ 10] Utilization = 0.22 | pJ/Compute =    9.966 | L3[WIO] M2 - L2[I] P2 C3 M2Y - L1[W] Q14 M4 R7Y M4X - L0[W] Q8 P56 S7 \n",
      "[  8] Utilization = 0.22 | pJ/Compute =    9.963 | L3[WIO] M2 - L2[I] P2 M2Y - L1[W] Q14 M4 C3 R7Y M4X - L0[W] Q8 P56 S7 \n",
      "[  0] Utilization = 0.00 | pJ/Compute =   43.127 | L3[WIO] Q1 - L2[O] Q1 - L1[W] Q1 - L0[] Q112 P112 S7 R7 M64 C3 \n",
      "[ 10] Utilization = 0.22 | pJ/Compute =    9.964 | L3[WIO] M2 - L2[WI] P2 C3 M2Y - L1[W] Q14 M4 R7Y M4X - L0[W] Q8 P56 S7 \n",
      "[  6] Utilization = 0.22 | pJ/Compute =    7.521 | L3[WIO] M2 - L2[O] P2 M2Y - L1[W] Q14 M4 R7Y M4X - L0[] Q8 P56 S7 C3 \n",
      "[  0] Utilization = 0.00 | pJ/Compute =   15.364 | L3[WIO] Q1 - L2[IO] Q1 - L1[W] Q1 - L0[] Q112 P112 S7 R7 M64 C3 \n",
      "[  4] Utilization = 0.00 | pJ/Compute =   43.127 | L3[WIO] Q1 - L2[O] C3 - L1[W] Q1 - L0[] Q112 P112 S7 R7 M64 \n",
      "[  2] Utilization = 0.00 | pJ/Compute =   43.127 | L3[WIO] Q1 - L2[O] Q1 - L1[W] C3 - L0[] Q112 P112 S7 R7 M64 \n",
      "[ 10] Utilization = 0.22 | pJ/Compute =    6.019 | L3[WIO] M2 - L2[O] P2 C3 M2Y - L1[] Q14 M4 R7Y M4X - L0[W] Q8 P56 S7 \n",
      "[  4] Utilization = 0.00 | pJ/Compute =   15.364 | L3[WIO] Q1 - L2[IO] C3 - L1[W] Q1 - L0[] Q112 P112 S7 R7 M64 \n",
      "[  6] Utilization = 0.22 | pJ/Compute =    4.093 | L3[WIO] M2 - L2[IO] P2 M2Y - L1[W] Q14 M4 R7Y M4X - L0[] Q8 P56 S7 C3 \n",
      "[ 10] Utilization = 0.22 | pJ/Compute =    5.957 | L3[WIO] M2 - L2[O] P2 C3 M2Y - L1[W] Q14 M4 R7Y M4X - L0[W] Q8 P56 S7 \n",
      "[  5] Utilization = 0.00 | pJ/Compute =   43.127 | L3[WIO] C3 - L2[O] Q1 - L1[W] Q1 - L0[] Q112 P112 S7 R7 M64 \n",
      "[ 10] Utilization = 0.22 | pJ/Compute =    5.955 | L3[WIO] M2 - L2[WO] P2 C3 M2Y - L1[W] Q14 M4 R7Y M4X - L0[W] Q8 P56 S7 \n",
      "[  2] Utilization = 0.00 | pJ/Compute =   15.364 | L3[WIO] Q1 - L2[IO] Q1 - L1[W] C3 - L0[] Q112 P112 S7 R7 M64 \n",
      "[  1] Utilization = 0.01 | pJ/Compute =    9.448 | L3[WIO] Q1 - L2[IO] Q1 - L1[W] Q1 C3Y - L0[] Q112 P112 S7 R7 M64 \n",
      "[ 10] Utilization = 0.22 | pJ/Compute =    2.592 | L3[WIO] M2 - L2[IO] P2 C3 M2Y - L1[] Q14 M4 R7Y M4X - L0[W] Q8 P56 S7 \n",
      "[ 10] Utilization = 0.22 | pJ/Compute =    2.529 | L3[WIO] M2 - L2[IO] P2 C3 M2Y - L1[W] Q14 M4 R7Y M4X - L0[W] Q8 P56 S7 \n",
      "[  5] Utilization = 0.00 | pJ/Compute =   15.364 | L3[WIO] C3 - L2[IO] Q1 - L1[W] Q1 - L0[] Q112 P112 S7 R7 M64 \n",
      "[  8] Utilization = 0.22 | pJ/Compute =    6.019 | L3[WIO] M2 - L2[O] P2 M2Y - L1[] Q14 M4 C3 R7Y M4X - L0[W] Q8 P56 S7 \n",
      "[ 10] Utilization = 0.22 | pJ/Compute =    2.528 | L3[WIO] M2 - L2[WIO] P2 C3 M2Y - L1[W] Q14 M4 R7Y M4X - L0[W] Q8 P56 S7 \n",
      "[  8] Utilization = 0.22 | pJ/Compute =    5.954 | L3[WIO] M2 - L2[O] P2 M2Y - L1[W] Q14 M4 C3 R7Y M4X - L0[W] Q8 P56 S7 \n",
      "[  0] Utilization = 0.11 | pJ/Compute =   49.372 | L3[WIO] M2 - L2[] P2 M2Y - L1[] Q14 M4 R7Y M2X - L0[] Q8 P56 S7 M2 C3 \n",
      "[  0] Utilization = 0.11 | pJ/Compute =   18.957 | L3[WIO] M2 - L2[] P2 M2Y - L1[W] Q14 M4 R7Y M2X - L0[] Q8 P56 S7 M2 C3 \n",
      "[  8] Utilization = 0.22 | pJ/Compute =    2.592 | L3[WIO] M2 - L2[IO] P2 M2Y - L1[] Q14 M4 C3 R7Y M4X - L0[W] Q8 P56 S7 \n",
      "[  0] Utilization = 0.11 | pJ/Compute =   12.053 | L3[WIO] M2 - L2[I] P2 M2Y - L1[W] Q14 M4 R7Y M2X - L0[] Q8 P56 S7 M2 C3 \n",
      "[  8] Utilization = 0.22 | pJ/Compute =    2.526 | L3[WIO] M2 - L2[IO] P2 M2Y - L1[W] Q14 M4 C3 R7Y M4X - L0[W] Q8 P56 S7 \n",
      "[  2] Utilization = 0.11 | pJ/Compute =   49.372 | L3[WIO] M2 - L2[] P2 M2Y - L1[] Q14 M4 C3 R7Y M2X - L0[] Q8 P56 S7 M2 \n",
      "[  2] Utilization = 0.11 | pJ/Compute =   18.957 | L3[WIO] M2 - L2[] P2 M2Y - L1[W] Q14 M4 C3 R7Y M2X - L0[] Q8 P56 S7 M2 \n",
      "[  2] Utilization = 0.11 | pJ/Compute =   12.053 | L3[WIO] M2 - L2[I] P2 M2Y - L1[W] Q14 M4 C3 R7Y M2X - L0[] Q8 P56 S7 M2 \n",
      "[  5] Utilization = 0.11 | pJ/Compute =   49.372 | L3[WIO] M2 C3 - L2[] P2 M2Y - L1[] Q14 M4 R7Y M2X - L0[] Q8 P56 S7 M2 \n",
      "[  4] Utilization = 0.11 | pJ/Compute =   49.372 | L3[WIO] M2 - L2[] P2 C3 M2Y - L1[] Q14 M4 R7Y M2X - L0[] Q8 P56 S7 M2 \n",
      "[  5] Utilization = 0.11 | pJ/Compute =   18.957 | L3[WIO] M2 C3 - L2[] P2 M2Y - L1[W] Q14 M4 R7Y M2X - L0[] Q8 P56 S7 M2 \n",
      "[  4] Utilization = 0.11 | pJ/Compute =   18.960 | L3[WIO] M2 - L2[] P2 C3 M2Y - L1[W] Q14 M4 R7Y M2X - L0[] Q8 P56 S7 M2 \n",
      "[  4] Utilization = 0.11 | pJ/Compute =   18.958 | L3[WIO] M2 - L2[W] P2 C3 M2Y - L1[W] Q14 M4 R7Y M2X - L0[] Q8 P56 S7 M2 \n",
      "[  5] Utilization = 0.11 | pJ/Compute =   12.102 | L3[WIO] M2 C3 - L2[I] P2 M2Y - L1[W] Q14 M4 R7Y M2X - L0[] Q8 P56 S7 M2 \n",
      "[  4] Utilization = 0.11 | pJ/Compute =   12.056 | L3[WIO] M2 - L2[I] P2 C3 M2Y - L1[W] Q14 M4 R7Y M2X - L0[] Q8 P56 S7 M2 \n",
      "[  0] Utilization = 0.11 | pJ/Compute =   11.521 | L3[WIO] M2 - L2[O] P2 M2Y - L1[W] Q14 M4 R7Y M2X - L0[] Q8 P56 S7 M2 C3 \n",
      "[  4] Utilization = 0.11 | pJ/Compute =   12.054 | L3[WIO] M2 - L2[WI] P2 C3 M2Y - L1[W] Q14 M4 R7Y M2X - L0[] Q8 P56 S7 M2 \n"
     ]
    },
    {
     "name": "stderr",
     "output_type": "stream",
     "text": [
      "[  2] Utilization = 0.11 | pJ/Compute =   11.521 | L3[WIO] M2 - L2[O] P2 M2Y - L1[W] Q14 M4 C3 R7Y M2X - L0[] Q8 P56 S7 M2 \n",
      "[  0] Utilization = 0.11 | pJ/Compute =    4.617 | L3[WIO] M2 - L2[IO] P2 M2Y - L1[W] Q14 M4 R7Y M2X - L0[] Q8 P56 S7 M2 C3 \n",
      "[  2] Utilization = 0.11 | pJ/Compute =    4.617 | L3[WIO] M2 - L2[IO] P2 M2Y - L1[W] Q14 M4 C3 R7Y M2X - L0[] Q8 P56 S7 M2 \n",
      "[  5] Utilization = 0.11 | pJ/Compute =   11.521 | L3[WIO] M2 C3 - L2[O] P2 M2Y - L1[W] Q14 M4 R7Y M2X - L0[] Q8 P56 S7 M2 \n",
      "[  5] Utilization = 0.11 | pJ/Compute =    4.665 | L3[WIO] M2 C3 - L2[IO] P2 M2Y - L1[W] Q14 M4 R7Y M2X - L0[] Q8 P56 S7 M2 \n",
      "[  4] Utilization = 0.11 | pJ/Compute =   11.523 | L3[WIO] M2 - L2[O] P2 C3 M2Y - L1[W] Q14 M4 R7Y M2X - L0[] Q8 P56 S7 M2 \n",
      "[  4] Utilization = 0.11 | pJ/Compute =   11.522 | L3[WIO] M2 - L2[WO] P2 C3 M2Y - L1[W] Q14 M4 R7Y M2X - L0[] Q8 P56 S7 M2 \n",
      "[  4] Utilization = 0.11 | pJ/Compute =    4.619 | L3[WIO] M2 - L2[IO] P2 C3 M2Y - L1[W] Q14 M4 R7Y M2X - L0[] Q8 P56 S7 M2 \n",
      "[  4] Utilization = 0.11 | pJ/Compute =    4.618 | L3[WIO] M2 - L2[WIO] P2 C3 M2Y - L1[W] Q14 M4 R7Y M2X - L0[] Q8 P56 S7 M2 \n",
      "[  1] Utilization = 0.19 | pJ/Compute =   43.277 | L3[WIO] M2 - L2[] P2 M2Y - L1[] Q14 M4 R7Y M2X C3X - L0[] Q8 P56 S7 M2 \n",
      "[  1] Utilization = 0.33 | pJ/Compute =   12.862 | L3[WIO] M2 - L2[] P2 M2Y - L1[W] Q14 M4 R7Y M2X C3X - L0[] Q8 P56 S7 M2 \n",
      "[  1] Utilization = 0.33 | pJ/Compute =    5.958 | L3[WIO] M2 - L2[I] P2 M2Y - L1[W] Q14 M4 R7Y M2X C3X - L0[] Q8 P56 S7 M2 \n",
      "[  1] Utilization = 0.33 | pJ/Compute =    3.771 | L3[WIO] M2 - L2[IO] P2 M2Y - L1[W] Q14 M4 R7Y M2X C3X - L0[] Q8 P56 S7 M2 \n",
      "[ 10] STATEMENT: 91 valid mappings found, terminating search.\n",
      "[  8] STATEMENT: 91 valid mappings found, terminating search.\n",
      "[  6] STATEMENT: 91 valid mappings found, terminating search.\n",
      "[  0] STATEMENT: 91 valid mappings found, terminating search.\n",
      "[  2] STATEMENT: 91 valid mappings found, terminating search.\n",
      "[  5] STATEMENT: 91 valid mappings found, terminating search.\n",
      "[  4] STATEMENT: 91 valid mappings found, terminating search.\n",
      "[  1] STATEMENT: 91 valid mappings found, terminating search.\n"
     ]
    },
    {
     "name": "stdout",
     "output_type": "stream",
     "text": [
      "\n",
      "\n",
      "Summary stats for best mapping found by mapper:\n",
      "  Utilization = 0.33 | pJ/Compute =    3.771\n",
      "Processing alexnet_conv1_sparse with unstructured_sparse_tensor_core...\n",
      "  _______                __                \n",
      " /_  __(_)___ ___  ___  / /___  ____  ____ \n",
      "  / / / / __ `__ \\/ _ \\/ / __ \\/ __ \\/ __ \\\n",
      " / / / / / / / / /  __/ / /_/ / /_/ / /_/ /\n",
      "/_/ /_/_/ /_/ /_/\\___/_/\\____/\\____/ .___/ \n",
      "                                  /_/      \n",
      "\n",
      "Problem configuration complete.\n",
      "Found Accelergy ERT (energy reference table), replacing internal energy model.\n",
      "Found Accelergy ART (area reference table), replacing internal area model.\n",
      "Architecture configuration complete.\n",
      "Sparse optimization configuration complete.\n",
      "Using all available hardware threads = 11\n",
      "Mapper configuration complete.\n",
      "Initializing Index Factorization subspace.\n",
      "  Factorization options along problem dimension C = 6\n",
      "  Factorization options along problem dimension M = 1512\n",
      "  Factorization options along problem dimension R = 6\n",
      "  Factorization options along problem dimension S = 6\n",
      "  Factorization options along problem dimension N = 21\n",
      "  Factorization options along problem dimension P = 336\n",
      "  Factorization options along problem dimension Q = 336\n",
      "Mapspace Dimension [IndexFactorization] Size: 774289539072\n",
      "Mapspace Dimension [LoopPermutation] Size: 3252016064102400000\n",
      "Mapspace Dimension [Spatial] Size: 64\n",
      "Mapspace Dimension [DatatypeBypass] Size: 512\n",
      "Mapspace split! Per-split Mapping Dimension [IndexFactorization] Size: 70389958098 Residue: 6\n",
      "Mapspace construction complete.\n",
      "Search configuration complete.\n"
     ]
    },
    {
     "name": "stderr",
     "output_type": "stream",
     "text": [
      "[ 10] STATEMENT: 3600 invalid mappings (3600 fanout, 0 capacity) found since the last valid mapping, terminating search.\n",
      "[  7] STATEMENT: 3600 invalid mappings (3600 fanout, 0 capacity) found since the last valid mapping, terminating search.\n",
      "[  9] STATEMENT: 3600 invalid mappings (3600 fanout, 0 capacity) found since the last valid mapping, terminating search.\n",
      "[  8] STATEMENT: 3600 invalid mappings (3600 fanout, 0 capacity) found since the last valid mapping, terminating search.\n",
      "[  6] STATEMENT: 3600 invalid mappings (3600 fanout, 0 capacity) found since the last valid mapping, terminating search.\n",
      "[  3] STATEMENT: 3600 invalid mappings (3600 fanout, 0 capacity) found since the last valid mapping, terminating search.\n",
      "[  2] Utilization = 0.00 | pJ/Compute =  128.359 | L3[WIO] Q1 - L2[] Q1 - L1[] C3 - L0[] Q56 P56 N4 S11 R11 M96 \n",
      "[  0] Utilization = 0.00 | pJ/Compute =  128.359 | L3[WIO] Q1 - L2[] Q1 - L1[] Q1 - L0[] Q56 P56 N4 S11 R11 M96 C3 \n",
      "[  1] Utilization = 0.01 | pJ/Compute =   85.692 | L3[WIO] Q1 - L2[] Q1 - L1[] Q1 C3Y - L0[] Q56 P56 N4 S11 R11 M96 \n",
      "[  5] Utilization = 0.00 | pJ/Compute =  128.359 | L3[WIO] C3 - L2[] Q1 - L1[] Q1 - L0[] Q56 P56 N4 S11 R11 M96 \n",
      "[  4] Utilization = 0.00 | pJ/Compute =  128.359 | L3[WIO] Q1 - L2[] C3 - L1[] Q1 - L0[] Q56 P56 N4 S11 R11 M96 \n",
      "[  1] Utilization = 0.01 | pJ/Compute =   57.883 | L3[WIO] Q1 - L2[W] Q1 - L1[] Q1 C3Y - L0[] Q56 P56 N4 S11 R11 M96 \n",
      "[  2] Utilization = 0.00 | pJ/Compute =  100.550 | L3[WIO] Q1 - L2[W] Q1 - L1[] C3 - L0[] Q56 P56 N4 S11 R11 M96 \n",
      "[  0] Utilization = 0.00 | pJ/Compute =  100.550 | L3[WIO] Q1 - L2[W] Q1 - L1[] Q1 - L0[] Q56 P56 N4 S11 R11 M96 C3 \n",
      "[  5] Utilization = 0.00 | pJ/Compute =   97.944 | L3[WIO] C3 - L2[] Q1 - L1[W] Q1 - L0[] Q56 P56 N4 S11 R11 M96 \n",
      "[  4] Utilization = 0.00 | pJ/Compute =   97.944 | L3[WIO] Q1 - L2[] C3 - L1[W] Q1 - L0[] Q56 P56 N4 S11 R11 M96 \n",
      "[  1] Utilization = 0.01 | pJ/Compute =   30.125 | L3[WIO] Q1 - L2[WI] Q1 - L1[] Q1 C3Y - L0[] Q56 P56 N4 S11 R11 M96 \n",
      "[  0] Utilization = 0.00 | pJ/Compute =   72.791 | L3[WIO] Q1 - L2[WI] Q1 - L1[] Q1 - L0[] Q56 P56 N4 S11 R11 M96 C3 \n",
      "[  2] Utilization = 0.00 | pJ/Compute =   72.791 | L3[WIO] Q1 - L2[WI] Q1 - L1[] C3 - L0[] Q56 P56 N4 S11 R11 M96 \n",
      "[  5] Utilization = 0.00 | pJ/Compute =   70.185 | L3[WIO] C3 - L2[I] Q1 - L1[W] Q1 - L0[] Q56 P56 N4 S11 R11 M96 \n",
      "[  4] Utilization = 0.00 | pJ/Compute =   70.185 | L3[WIO] Q1 - L2[I] C3 - L1[W] Q1 - L0[] Q56 P56 N4 S11 R11 M96 \n",
      "[  0] Utilization = 0.00 | pJ/Compute =   45.601 | L3[WIO] Q1 - L2[WO] Q1 - L1[] Q1 - L0[] Q56 P56 N4 S11 R11 M96 C3 \n",
      "[  2] Utilization = 0.00 | pJ/Compute =   45.601 | L3[WIO] Q1 - L2[WO] Q1 - L1[] C3 - L0[] Q56 P56 N4 S11 R11 M96 \n",
      "[  1] Utilization = 0.01 | pJ/Compute =   11.927 | L3[WIO] Q1 - L2[WIO] Q1 - L1[] Q1 C3Y - L0[] Q56 P56 N4 S11 R11 M96 \n",
      "[  0] Utilization = 0.00 | pJ/Compute =   17.843 | L3[WIO] Q1 - L2[WIO] Q1 - L1[] Q1 - L0[] Q56 P56 N4 S11 R11 M96 C3 \n",
      "[  2] Utilization = 0.00 | pJ/Compute =   17.843 | L3[WIO] Q1 - L2[WIO] Q1 - L1[] C3 - L0[] Q56 P56 N4 S11 R11 M96 \n",
      "[  4] Utilization = 0.00 | pJ/Compute =   42.995 | L3[WIO] Q1 - L2[O] C3 - L1[W] Q1 - L0[] Q56 P56 N4 S11 R11 M96 \n",
      "[  5] Utilization = 0.00 | pJ/Compute =   42.995 | L3[WIO] C3 - L2[O] Q1 - L1[W] Q1 - L0[] Q56 P56 N4 S11 R11 M96 \n",
      "[  4] Utilization = 0.00 | pJ/Compute =   15.237 | L3[WIO] Q1 - L2[IO] C3 - L1[W] Q1 - L0[] Q56 P56 N4 S11 R11 M96 \n",
      "[  5] Utilization = 0.00 | pJ/Compute =   15.237 | L3[WIO] C3 - L2[IO] Q1 - L1[W] Q1 - L0[] Q56 P56 N4 S11 R11 M96 \n",
      "[  2] STATEMENT: 3600 invalid mappings (3600 fanout, 0 capacity) found since the last valid mapping, terminating search.\n",
      "[  0] STATEMENT: 3600 invalid mappings (3600 fanout, 0 capacity) found since the last valid mapping, terminating search.\n",
      "[  4] STATEMENT: 3600 invalid mappings (3600 fanout, 0 capacity) found since the last valid mapping, terminating search.\n",
      "[  5] STATEMENT: 3600 invalid mappings (3600 fanout, 0 capacity) found since the last valid mapping, terminating search.\n",
      "[  1] STATEMENT: 3600 invalid mappings (3600 fanout, 0 capacity) found since the last valid mapping, terminating search.\n"
     ]
    },
    {
     "name": "stdout",
     "output_type": "stream",
     "text": [
      "\n",
      "\n",
      "Summary stats for best mapping found by mapper:\n",
      "  Utilization = 0.01 | pJ/Compute =   11.927\n",
      "Processing mobilenet_conv1_sparse with unstructured_sparse_tensor_core...\n",
      "  _______                __                \n",
      " /_  __(_)___ ___  ___  / /___  ____  ____ \n",
      "  / / / / __ `__ \\/ _ \\/ / __ \\/ __ \\/ __ \\\n",
      " / / / / / / / / /  __/ / /_/ / /_/ / /_/ /\n",
      "/_/ /_/_/ /_/ /_/\\___/_/\\____/\\____/ .___/ \n",
      "                                  /_/      \n",
      "\n",
      "Problem configuration complete.\n",
      "Found Accelergy ERT (energy reference table), replacing internal energy model.\n",
      "Found Accelergy ART (area reference table), replacing internal area model.\n",
      "Architecture configuration complete.\n",
      "Sparse optimization configuration complete.\n",
      "Using all available hardware threads = 11\n",
      "Mapper configuration complete.\n",
      "Initializing Index Factorization subspace.\n",
      "  Factorization options along problem dimension R = 6\n",
      "  Factorization options along problem dimension S = 6\n",
      "  Factorization options along problem dimension E = 756\n",
      "  Factorization options along problem dimension F = 756\n",
      "  Factorization options along problem dimension C = 6\n",
      "  Factorization options along problem dimension M = 252\n",
      "  Factorization options along problem dimension N = 1\n",
      "  Factorization options along problem dimension G = 1\n",
      "Mapspace Dimension [IndexFactorization] Size: 31109847552\n",
      "Mapspace Dimension [LoopPermutation] Size: 106562062388507443200000\n",
      "Mapspace Dimension [Spatial] Size: 81\n",
      "Mapspace Dimension [DatatypeBypass] Size: 512\n",
      "Mapspace split! Per-split Mapping Dimension [IndexFactorization] Size: 2828167960 Residue: 8\n",
      "Mapspace construction complete.\n",
      "Search configuration complete.\n"
     ]
    },
    {
     "name": "stderr",
     "output_type": "stream",
     "text": [
      "[  3] STATEMENT: 3600 invalid mappings (3600 fanout, 0 capacity) found since the last valid mapping, terminating search.\n",
      "[  9] STATEMENT: 3600 invalid mappings (3600 fanout, 0 capacity) found since the last valid mapping, terminating search.\n",
      "[  0] Utilization = 0.00 | pJ/Compute =  127.262 | L3[WIO] G1 - L2[] G1 - L1[] G1 - L0[] M32 C3 F112 E112 S3 R3 \n",
      "[ 10] Utilization = 0.01 | pJ/Compute =   84.595 | L3[WIO] G1 - L2[] R3 - L1[] G1 S3Y - L0[] M32 C3 F112 E112 \n",
      "[  8] Utilization = 0.01 | pJ/Compute =   84.595 | L3[WIO] G1 - L2[] G1 - L1[] R3 S3Y - L0[] M32 C3 F112 E112 \n",
      "[  6] Utilization = 0.01 | pJ/Compute =   84.595 | L3[WIO] G1 - L2[] G1 - L1[] G1 S3Y - L0[] M32 C3 F112 E112 R3 \n",
      "[  4] Utilization = 0.00 | pJ/Compute =  127.262 | L3[WIO] G1 - L2[] R3 - L1[] G1 - L0[] M32 C3 F112 E112 S3 \n",
      "[  1] Utilization = 0.01 | pJ/Compute =   84.595 | L3[WIO] G1 - L2[] G1 - L1[] G1 R3Y - L0[] M32 C3 F112 E112 S3 \n",
      "[  5] Utilization = 0.00 | pJ/Compute =  127.262 | L3[WIO] R3 - L2[] G1 - L1[] G1 - L0[] M32 C3 F112 E112 S3 \n",
      "[  7] Utilization = 0.04 | pJ/Compute =   70.373 | L3[WIO] G1 - L2[] G1 - L1[] G1 S3Y R3X - L0[] M32 C3 F112 E112 \n",
      "[  2] Utilization = 0.00 | pJ/Compute =  127.262 | L3[WIO] G1 - L2[] G1 - L1[] R3 - L0[] M32 C3 F112 E112 S3 \n",
      "[  0] Utilization = 0.00 | pJ/Compute =   96.847 | L3[WIO] G1 - L2[] G1 - L1[W] G1 - L0[] M32 C3 F112 E112 S3 R3 \n",
      "[ 10] Utilization = 0.01 | pJ/Compute =   54.180 | L3[WIO] G1 - L2[] R3 - L1[W] G1 S3Y - L0[] M32 C3 F112 E112 \n",
      "[  6] Utilization = 0.01 | pJ/Compute =   54.180 | L3[WIO] G1 - L2[] G1 - L1[W] G1 S3Y - L0[] M32 C3 F112 E112 R3 \n",
      "[  4] Utilization = 0.00 | pJ/Compute =   96.847 | L3[WIO] G1 - L2[] R3 - L1[W] G1 - L0[] M32 C3 F112 E112 S3 \n",
      "[  1] Utilization = 0.01 | pJ/Compute =   54.180 | L3[WIO] G1 - L2[] G1 - L1[W] G1 R3Y - L0[] M32 C3 F112 E112 S3 \n",
      "[  7] Utilization = 0.04 | pJ/Compute =   39.958 | L3[WIO] G1 - L2[] G1 - L1[W] G1 S3Y R3X - L0[] M32 C3 F112 E112 \n",
      "[  5] Utilization = 0.00 | pJ/Compute =   96.847 | L3[WIO] R3 - L2[] G1 - L1[W] G1 - L0[] M32 C3 F112 E112 S3 \n",
      "[  8] Utilization = 0.01 | pJ/Compute =   54.180 | L3[WIO] G1 - L2[] G1 - L1[W] R3 S3Y - L0[] M32 C3 F112 E112 \n",
      "[  0] Utilization = 0.00 | pJ/Compute =   69.167 | L3[WIO] G1 - L2[I] G1 - L1[W] G1 - L0[] M32 C3 F112 E112 S3 R3 \n",
      "[ 10] Utilization = 0.01 | pJ/Compute =   26.500 | L3[WIO] G1 - L2[I] R3 - L1[W] G1 S3Y - L0[] M32 C3 F112 E112 \n",
      "[  4] Utilization = 0.00 | pJ/Compute =   69.167 | L3[WIO] G1 - L2[I] R3 - L1[W] G1 - L0[] M32 C3 F112 E112 S3 \n",
      "[  6] Utilization = 0.01 | pJ/Compute =   26.500 | L3[WIO] G1 - L2[I] G1 - L1[W] G1 S3Y - L0[] M32 C3 F112 E112 R3 \n",
      "[  2] Utilization = 0.00 | pJ/Compute =   96.847 | L3[WIO] G1 - L2[] G1 - L1[W] R3 - L0[] M32 C3 F112 E112 S3 \n",
      "[  2] Utilization = 0.00 | pJ/Compute =   69.167 | L3[WIO] G1 - L2[I] G1 - L1[W] R3 - L0[] M32 C3 F112 E112 S3 \n",
      "[  0] Utilization = 0.00 | pJ/Compute =   44.109 | L3[WIO] G1 - L2[O] G1 - L1[W] G1 - L0[] M32 C3 F112 E112 S3 R3 \n",
      "[  4] Utilization = 0.00 | pJ/Compute =   44.109 | L3[WIO] G1 - L2[O] R3 - L1[W] G1 - L0[] M32 C3 F112 E112 S3 \n",
      "[  0] Utilization = 0.00 | pJ/Compute =   16.429 | L3[WIO] G1 - L2[IO] G1 - L1[W] G1 - L0[] M32 C3 F112 E112 S3 R3 \n",
      "[ 10] Utilization = 0.01 | pJ/Compute =   10.513 | L3[WIO] G1 - L2[IO] R3 - L1[W] G1 S3Y - L0[] M32 C3 F112 E112 \n",
      "[  4] Utilization = 0.00 | pJ/Compute =   16.429 | L3[WIO] G1 - L2[IO] R3 - L1[W] G1 - L0[] M32 C3 F112 E112 S3 \n",
      "[  6] Utilization = 0.01 | pJ/Compute =   10.513 | L3[WIO] G1 - L2[IO] G1 - L1[W] G1 S3Y - L0[] M32 C3 F112 E112 R3 \n",
      "[  5] Utilization = 0.00 | pJ/Compute =   69.167 | L3[WIO] R3 - L2[I] G1 - L1[W] G1 - L0[] M32 C3 F112 E112 S3 \n",
      "[  1] Utilization = 0.01 | pJ/Compute =   26.500 | L3[WIO] G1 - L2[I] G1 - L1[W] G1 R3Y - L0[] M32 C3 F112 E112 S3 \n",
      "[  2] Utilization = 0.00 | pJ/Compute =   44.109 | L3[WIO] G1 - L2[O] G1 - L1[W] R3 - L0[] M32 C3 F112 E112 S3 \n",
      "[  7] Utilization = 0.04 | pJ/Compute =   12.278 | L3[WIO] G1 - L2[I] G1 - L1[W] G1 S3Y R3X - L0[] M32 C3 F112 E112 \n",
      "[  8] Utilization = 0.01 | pJ/Compute =   26.500 | L3[WIO] G1 - L2[I] G1 - L1[W] R3 S3Y - L0[] M32 C3 F112 E112 \n",
      "[  2] Utilization = 0.00 | pJ/Compute =   16.429 | L3[WIO] G1 - L2[IO] G1 - L1[W] R3 - L0[] M32 C3 F112 E112 S3 \n",
      "[  1] Utilization = 0.01 | pJ/Compute =   10.513 | L3[WIO] G1 - L2[IO] G1 - L1[W] G1 R3Y - L0[] M32 C3 F112 E112 S3 \n",
      "[  5] Utilization = 0.00 | pJ/Compute =   44.109 | L3[WIO] R3 - L2[O] G1 - L1[W] G1 - L0[] M32 C3 F112 E112 S3 \n",
      "[  7] Utilization = 0.04 | pJ/Compute =    8.541 | L3[WIO] G1 - L2[IO] G1 - L1[W] G1 S3Y R3X - L0[] M32 C3 F112 E112 \n",
      "[  5] Utilization = 0.00 | pJ/Compute =   16.429 | L3[WIO] R3 - L2[IO] G1 - L1[W] G1 - L0[] M32 C3 F112 E112 S3 \n",
      "[  8] Utilization = 0.01 | pJ/Compute =   10.513 | L3[WIO] G1 - L2[IO] G1 - L1[W] R3 S3Y - L0[] M32 C3 F112 E112 \n",
      "[  0] STATEMENT: 3600 invalid mappings (3600 fanout, 0 capacity) found since the last valid mapping, terminating search.\n",
      "[  4] STATEMENT: 3600 invalid mappings (3600 fanout, 0 capacity) found since the last valid mapping, terminating search.\n",
      "[  2] STATEMENT: 3600 invalid mappings (3600 fanout, 0 capacity) found since the last valid mapping, terminating search.\n",
      "[  6] STATEMENT: 3600 invalid mappings (3600 fanout, 0 capacity) found since the last valid mapping, terminating search.\n",
      "[  5] STATEMENT: 3600 invalid mappings (3600 fanout, 0 capacity) found since the last valid mapping, terminating search.\n",
      "[ 10] STATEMENT: 3600 invalid mappings (3600 fanout, 0 capacity) found since the last valid mapping, terminating search.\n",
      "[  7] STATEMENT: 3600 invalid mappings (3600 fanout, 0 capacity) found since the last valid mapping, terminating search.\n",
      "[  1] STATEMENT: 3600 invalid mappings (3600 fanout, 0 capacity) found since the last valid mapping, terminating search.\n",
      "[  8] STATEMENT: 3600 invalid mappings (3600 fanout, 0 capacity) found since the last valid mapping, terminating search.\n"
     ]
    },
    {
     "name": "stdout",
     "output_type": "stream",
     "text": [
      "\n",
      "\n",
      "Summary stats for best mapping found by mapper:\n",
      "  Utilization = 0.04 | pJ/Compute =    8.541\n"
     ]
    },
    {
     "name": "stderr",
     "output_type": "stream",
     "text": [
      "\n",
      "real\t0m1.219s\n",
      "user\t0m2.368s\n",
      "sys\t0m0.138s\n"
     ]
    }
   ],
   "source": [
    "%%bash\n",
    "cd /home/workspace/2022.micro.artifact/evaluation_setups/unstructured_sparse_eval/scripts\n",
    "echo \"Running evaluation sweep for unstructured sparse architecture\"\n",
    "chmod +x sweep1.sh\n",
    "time ./sweep1.sh"
   ]
  },
  {
   "cell_type": "code",
   "execution_count": 149,
   "id": "25c52af4",
   "metadata": {
    "scrolled": true
   },
   "outputs": [
    {
     "name": "stdout",
     "output_type": "stream",
     "text": [
      "\n",
      "Summary Statistics:\n",
      "\n",
      "Unstructured Sparse Architecture:\n",
      "resnet50_conv1:\n",
      "  Cycles: 1,404,928\n",
      "  Energy: 52,738,074.87 pJ\n",
      "  Utilization: 84.00%\n",
      "alexnet_conv1_sparse:\n",
      "  Cycles: 145,711,104\n",
      "  Energy: 195,346,134.47 pJ\n",
      "  Utilization: 3.00%\n",
      "mobilenet_conv1_sparse:\n",
      "  Cycles: 1,204,224\n",
      "  Energy: 4,843,292.59 pJ\n",
      "  Utilization: 9.00%\n",
      "Unstructured sparse architecture plots created successfully!\n"
     ]
    },
    {
     "name": "stderr",
     "output_type": "stream",
     "text": [
      "\n",
      "real\t0m1.296s\n",
      "user\t0m2.860s\n",
      "sys\t0m3.692s\n"
     ]
    }
   ],
   "source": [
    "%%bash\n",
    "cd /home/workspace/2022.micro.artifact/evaluation_setups/unstructured_sparse_eval/scripts && \\\n",
    "chmod +x parse_and_plot1.py && \\\n",
    "time ./parse_and_plot1.py"
   ]
  },
  {
   "cell_type": "code",
   "execution_count": 150,
   "id": "c779ebe5",
   "metadata": {},
   "outputs": [
    {
     "data": {
      "image/png": "[encoded data removed]",
      "text/plain": [
       "<IPython.core.display.Image object>"
      ]
     },
     "execution_count": 150,
     "metadata": {},
     "output_type": "execute_result"
    }
   ],
   "source": [
    "from IPython.display import Image\n",
    "import matplotlib.pyplot as plt\n",
    "\n",
    "# Define path to the figure using the absolute path\n",
    "unstructured_comparison_fig = \"../evaluation_setups/unstructured_sparse_eval/outputs/figures/unstructured_comparison.png\"\n",
    "# Display the image directly using IPython's Image display\n",
    "Image(filename=unstructured_comparison_fig)"
   ]
  },
  {
   "cell_type": "code",
   "execution_count": 151,
   "id": "1f139bfe",
   "metadata": {},
   "outputs": [
    {
     "name": "stdout",
     "output_type": "stream",
     "text": [
      "Running evaluation sweep for unstructured spares architecture with no overhead\n"
     ]
    },
    {
     "name": "stderr",
     "output_type": "stream",
     "text": [
      "+ WORKLOADS=(\"resnet50_conv1\" \"alexnet_conv1_sparse\" \"mobilenet_conv1_sparse\")\n",
      "+++ dirname ./sweep2.sh\n",
      "++ cd .\n",
      "++ pwd\n",
      "+ SCRIPT_DIR=/home/workspace/2022.micro.artifact/evaluation_setups/unstructured_sparse_eval/scripts\n",
      "++ dirname /home/workspace/2022.micro.artifact/evaluation_setups/unstructured_sparse_eval/scripts\n",
      "+ BASE_DIR=/home/workspace/2022.micro.artifact/evaluation_setups/unstructured_sparse_eval\n",
      "+ echo 'Script directory: /home/workspace/2022.micro.artifact/evaluation_setups/unstructured_sparse_eval/scripts'\n"
     ]
    },
    {
     "name": "stdout",
     "output_type": "stream",
     "text": [
      "Script directory: /home/workspace/2022.micro.artifact/evaluation_setups/unstructured_sparse_eval/scripts\n"
     ]
    },
    {
     "name": "stderr",
     "output_type": "stream",
     "text": [
      "+ echo 'Base directory: /home/workspace/2022.micro.artifact/evaluation_setups/unstructured_sparse_eval'\n"
     ]
    },
    {
     "name": "stdout",
     "output_type": "stream",
     "text": [
      "Base directory: /home/workspace/2022.micro.artifact/evaluation_setups/unstructured_sparse_eval\n"
     ]
    },
    {
     "name": "stderr",
     "output_type": "stream",
     "text": [
      "++ pwd\n",
      "+ echo 'Current directory: /home/workspace/2022.micro.artifact/evaluation_setups/unstructured_sparse_eval/scripts'\n"
     ]
    },
    {
     "name": "stdout",
     "output_type": "stream",
     "text": [
      "Current directory: /home/workspace/2022.micro.artifact/evaluation_setups/unstructured_sparse_eval/scripts\n"
     ]
    },
    {
     "name": "stderr",
     "output_type": "stream",
     "text": [
      "+ echo 'Contents of script directory:'\n",
      "+ ls -la /home/workspace/2022.micro.artifact/evaluation_setups/unstructured_sparse_eval/scripts\n"
     ]
    },
    {
     "name": "stdout",
     "output_type": "stream",
     "text": [
      "Contents of script directory:\n",
      "total 36\n",
      "drwxr-xr-x  8 workspace workspace  256 Apr 13 07:22 .\n",
      "drwxr-xr-x 10 workspace workspace  320 Apr 13 07:38 ..\n",
      "-rwxr-xr-x  1 workspace workspace 4067 Apr 13 06:12 parse_and_plot1.py\n",
      "-rwxr-xr-x  1 workspace workspace 3874 Apr 13 06:12 parse_and_plot2.py\n",
      "-rwxr-xr-x  1 workspace workspace 9257 Apr 13 07:35 parse_and_plot_m2.py\n",
      "-rwxr-xr-x  1 workspace workspace  986 Apr 13 06:12 sweep1.sh\n",
      "-rwxr-xr-x  1 workspace workspace 1739 Apr 13 06:12 sweep2.sh\n",
      "-rwxr-xr-x  1 workspace workspace 4164 Apr 13 07:37 sweep_m2.sh\n"
     ]
    },
    {
     "name": "stderr",
     "output_type": "stream",
     "text": [
      "+ echo 'Contents of base directory:'\n",
      "+ ls -la /home/workspace/2022.micro.artifact/evaluation_setups/unstructured_sparse_eval\n"
     ]
    },
    {
     "name": "stdout",
     "output_type": "stream",
     "text": [
      "Contents of base directory:\n",
      "total 0\n",
      "drwxr-xr-x 10 workspace workspace 320 Apr 13 07:38 .\n",
      "drwxr-xr-x  9 workspace workspace 288 Apr 13 06:57 ..\n",
      "drwxr-xr-x  5 workspace workspace 160 Apr 13 07:15 arch\n",
      "drwxr-xr-x  3 workspace workspace  96 Apr 13 06:12 dataflow\n",
      "drwxr-xr-x  9 workspace workspace 288 Apr 13 07:23 ert_art\n",
      "drwxr-xr-x  3 workspace workspace  96 Apr  4 04:34 mapper\n",
      "drwxr-xr-x 12 workspace workspace 384 Apr 13 07:36 outputs\n",
      "drwxr-xr-x  8 workspace workspace 256 Apr 13 07:22 scripts\n",
      "drwxr-xr-x  5 workspace workspace 160 Apr 13 07:16 sparse-opt\n",
      "drwxr-xr-x  8 workspace workspace 256 Apr 13 07:16 workload\n"
     ]
    },
    {
     "name": "stderr",
     "output_type": "stream",
     "text": [
      "+ which timeloop-mapper\n"
     ]
    },
    {
     "name": "stdout",
     "output_type": "stream",
     "text": [
      "/usr/local/bin/timeloop-mapper\n"
     ]
    },
    {
     "name": "stderr",
     "output_type": "stream",
     "text": [
      "+ timeloop-mapper --version\n",
      "ERROR: Input configuration file does not end with .cfg, .yml, or .yaml\n",
      "+ for workload in \"${WORKLOADS[@]}\"\n",
      "+ echo 'Processing resnet50_conv1 with ideal_sparse_tensor_core...'\n",
      "+ mkdir -p /home/workspace/2022.micro.artifact/evaluation_setups/unstructured_sparse_eval/outputs/ideal_resnet50_conv1\n"
     ]
    },
    {
     "name": "stdout",
     "output_type": "stream",
     "text": [
      "Processing resnet50_conv1 with ideal_sparse_tensor_core...\n"
     ]
    },
    {
     "name": "stderr",
     "output_type": "stream",
     "text": [
      "+ echo 'Checking required files:'\n",
      "+ ls -la /home/workspace/2022.micro.artifact/evaluation_setups/unstructured_sparse_eval/arch/ideal_sparse_tensor_core.yaml\n"
     ]
    },
    {
     "name": "stdout",
     "output_type": "stream",
     "text": [
      "Checking required files:\n",
      "-rw-r--r-- 1 workspace workspace 3253 Apr 13 06:17 /home/workspace/2022.micro.artifact/evaluation_setups/unstructured_sparse_eval/arch/ideal_sparse_tensor_core.yaml\n"
     ]
    },
    {
     "name": "stderr",
     "output_type": "stream",
     "text": [
      "+ ls -la /home/workspace/2022.micro.artifact/evaluation_setups/unstructured_sparse_eval/dataflow/weight_stationary.yaml\n"
     ]
    },
    {
     "name": "stdout",
     "output_type": "stream",
     "text": [
      "-rw-r--r-- 1 workspace workspace 425 Apr 13 06:12 /home/workspace/2022.micro.artifact/evaluation_setups/unstructured_sparse_eval/dataflow/weight_stationary.yaml\n"
     ]
    },
    {
     "name": "stderr",
     "output_type": "stream",
     "text": [
      "+ ls -la /home/workspace/2022.micro.artifact/evaluation_setups/unstructured_sparse_eval/sparse-opt/ideal.yaml\n"
     ]
    },
    {
     "name": "stdout",
     "output_type": "stream",
     "text": [
      "-rw-r--r-- 1 workspace workspace 251 Apr 13 06:24 /home/workspace/2022.micro.artifact/evaluation_setups/unstructured_sparse_eval/sparse-opt/ideal.yaml\n"
     ]
    },
    {
     "name": "stderr",
     "output_type": "stream",
     "text": [
      "+ ls -la /home/workspace/2022.micro.artifact/evaluation_setups/unstructured_sparse_eval/workload/resnet50_conv1.yaml\n"
     ]
    },
    {
     "name": "stdout",
     "output_type": "stream",
     "text": [
      "-rw-r--r-- 1 workspace workspace 961 Apr  4 04:34 /home/workspace/2022.micro.artifact/evaluation_setups/unstructured_sparse_eval/workload/resnet50_conv1.yaml\n"
     ]
    },
    {
     "name": "stderr",
     "output_type": "stream",
     "text": [
      "+ ls -la /home/workspace/2022.micro.artifact/evaluation_setups/unstructured_sparse_eval/mapper/mapper.yaml\n"
     ]
    },
    {
     "name": "stdout",
     "output_type": "stream",
     "text": [
      "-rw-r--r-- 1 workspace workspace 357 Apr  4 04:34 /home/workspace/2022.micro.artifact/evaluation_setups/unstructured_sparse_eval/mapper/mapper.yaml\n"
     ]
    },
    {
     "name": "stderr",
     "output_type": "stream",
     "text": [
      "+ ls -la /home/workspace/2022.micro.artifact/evaluation_setups/unstructured_sparse_eval/ert_art/ERT_ideal.yaml\n"
     ]
    },
    {
     "name": "stdout",
     "output_type": "stream",
     "text": [
      "-rw-r--r-- 1 workspace workspace 2114 Apr 13 06:18 /home/workspace/2022.micro.artifact/evaluation_setups/unstructured_sparse_eval/ert_art/ERT_ideal.yaml\n"
     ]
    },
    {
     "name": "stderr",
     "output_type": "stream",
     "text": [
      "+ ls -la /home/workspace/2022.micro.artifact/evaluation_setups/unstructured_sparse_eval/ert_art/ART.yaml\n"
     ]
    },
    {
     "name": "stdout",
     "output_type": "stream",
     "text": [
      "-rw-r--r-- 1 workspace workspace 312 Apr  4 04:34 /home/workspace/2022.micro.artifact/evaluation_setups/unstructured_sparse_eval/ert_art/ART.yaml\n"
     ]
    },
    {
     "name": "stderr",
     "output_type": "stream",
     "text": [
      "+ timeloop-mapper /home/workspace/2022.micro.artifact/evaluation_setups/unstructured_sparse_eval/arch/ideal_sparse_tensor_core.yaml /home/workspace/2022.micro.artifact/evaluation_setups/unstructured_sparse_eval/dataflow/weight_stationary.yaml /home/workspace/2022.micro.artifact/evaluation_setups/unstructured_sparse_eval/sparse-opt/ideal.yaml /home/workspace/2022.micro.artifact/evaluation_setups/unstructured_sparse_eval/workload/resnet50_conv1.yaml /home/workspace/2022.micro.artifact/evaluation_setups/unstructured_sparse_eval/mapper/mapper.yaml /home/workspace/2022.micro.artifact/evaluation_setups/unstructured_sparse_eval/ert_art/ERT_ideal.yaml /home/workspace/2022.micro.artifact/evaluation_setups/unstructured_sparse_eval/ert_art/ART.yaml -o /home/workspace/2022.micro.artifact/evaluation_setups/unstructured_sparse_eval/outputs/ideal_resnet50_conv1\n"
     ]
    },
    {
     "name": "stdout",
     "output_type": "stream",
     "text": [
      "  _______                __                \n",
      " /_  __(_)___ ___  ___  / /___  ____  ____ \n",
      "  / / / / __ `__ \\/ _ \\/ / __ \\/ __ \\/ __ \\\n",
      " / / / / / / / / /  __/ / /_/ / /_/ / /_/ /\n",
      "/_/ /_/_/ /_/ /_/\\___/_/\\____/\\____/ .___/ \n",
      "                                  /_/      \n",
      "\n",
      "Problem configuration complete.\n",
      "Found Accelergy ERT (energy reference table), replacing internal energy model.\n",
      "Found Accelergy ART (area reference table), replacing internal area model.\n",
      "Architecture configuration complete.\n",
      "Sparse optimization configuration complete.\n",
      "Using all available hardware threads = 11\n",
      "Mapper configuration complete.\n",
      "Initializing Index Factorization subspace.\n",
      "  Factorization options along problem dimension C = 6\n",
      "  Factorization options along problem dimension M = 462\n",
      "  Factorization options along problem dimension R = 6\n",
      "  Factorization options along problem dimension S = 6\n",
      "  Factorization options along problem dimension N = 1\n",
      "  Factorization options along problem dimension P = 756\n",
      "  Factorization options along problem dimension Q = 756\n",
      "Mapspace Dimension [IndexFactorization] Size: 57034720512\n",
      "Mapspace Dimension [LoopPermutation] Size: 3252016064102400000\n",
      "Mapspace Dimension [Spatial] Size: 64\n",
      "Mapspace Dimension [DatatypeBypass] Size: 512\n",
      "Mapspace split! Per-split Mapping Dimension [IndexFactorization] Size: 5184974592 Residue: 0\n",
      "Mapspace construction complete.\n",
      "Search configuration complete.\n"
     ]
    },
    {
     "name": "stderr",
     "output_type": "stream",
     "text": [
      "[  9] STATEMENT: 3600 invalid mappings (3600 fanout, 0 capacity) found since the last valid mapping, terminating search.\n",
      "[  3] STATEMENT: 3600 invalid mappings (3600 fanout, 0 capacity) found since the last valid mapping, terminating search.\n",
      "[  7] STATEMENT: 3600 invalid mappings (3600 fanout, 0 capacity) found since the last valid mapping, terminating search.\n",
      "[  2] Utilization = 0.00 | pJ/Compute =  128.229 | L3[WIO] Q1 - L2[] Q1 - L1[] C3 - L0[] Q112 P112 S7 R7 M64 \n",
      "[  8] Utilization = 0.20 | pJ/Compute =   45.372 | L3[WIO] M2 - L2[] P2 M2Y - L1[] Q14 M4 C3 R7Y M4X - L0[] Q8 P56 S7 \n",
      "[  1] Utilization = 0.01 | pJ/Compute =   85.563 | L3[WIO] Q1 - L2[] Q1 - L1[] Q1 C3Y - L0[] Q112 P112 S7 R7 M64 \n",
      "[ 10] Utilization = 0.20 | pJ/Compute =   45.372 | L3[WIO] M2 - L2[] P2 C3 M2Y - L1[] Q14 M4 R7Y M4X - L0[] Q8 P56 S7 \n",
      "[  4] Utilization = 0.00 | pJ/Compute =  128.229 | L3[WIO] Q1 - L2[] C3 - L1[] Q1 - L0[] Q112 P112 S7 R7 M64 \n",
      "[  6] Utilization = 0.20 | pJ/Compute =   45.372 | L3[WIO] M2 - L2[] P2 M2Y - L1[] Q14 M4 R7Y M4X - L0[] Q8 P56 S7 C3 \n",
      "[  0] Utilization = 0.00 | pJ/Compute =  128.229 | L3[WIO] Q1 - L2[] Q1 - L1[] Q1 - L0[] Q112 P112 S7 R7 M64 C3 \n",
      "[  5] Utilization = 0.00 | pJ/Compute =  128.229 | L3[WIO] C3 - L2[] Q1 - L1[] Q1 - L0[] Q112 P112 S7 R7 M64 \n",
      "[  1] Utilization = 0.01 | pJ/Compute =   55.148 | L3[WIO] Q1 - L2[] Q1 - L1[W] Q1 C3Y - L0[] Q112 P112 S7 R7 M64 \n",
      "[  0] Utilization = 0.00 | pJ/Compute =   97.814 | L3[WIO] Q1 - L2[] Q1 - L1[W] Q1 - L0[] Q112 P112 S7 R7 M64 C3 \n",
      "[  4] Utilization = 0.00 | pJ/Compute =   97.814 | L3[WIO] Q1 - L2[] C3 - L1[W] Q1 - L0[] Q112 P112 S7 R7 M64 \n",
      "[  2] Utilization = 0.00 | pJ/Compute =   97.814 | L3[WIO] Q1 - L2[] Q1 - L1[W] C3 - L0[] Q112 P112 S7 R7 M64 \n",
      "[  6] Utilization = 0.22 | pJ/Compute =   14.957 | L3[WIO] M2 - L2[] P2 M2Y - L1[W] Q14 M4 R7Y M4X - L0[] Q8 P56 S7 C3 \n",
      "[  5] Utilization = 0.00 | pJ/Compute =   97.814 | L3[WIO] C3 - L2[] Q1 - L1[W] Q1 - L0[] Q112 P112 S7 R7 M64 \n",
      "[ 10] Utilization = 0.22 | pJ/Compute =   13.456 | L3[WIO] M2 - L2[] P2 C3 M2Y - L1[] Q14 M4 R7Y M4X - L0[W] Q8 P56 S7 \n",
      "[  8] Utilization = 0.22 | pJ/Compute =   13.456 | L3[WIO] M2 - L2[] P2 M2Y - L1[] Q14 M4 C3 R7Y M4X - L0[W] Q8 P56 S7 \n",
      "[ 10] Utilization = 0.22 | pJ/Compute =   13.393 | L3[WIO] M2 - L2[] P2 C3 M2Y - L1[W] Q14 M4 R7Y M4X - L0[W] Q8 P56 S7 \n",
      "[  1] Utilization = 0.01 | pJ/Compute =   27.384 | L3[WIO] Q1 - L2[I] Q1 - L1[W] Q1 C3Y - L0[] Q112 P112 S7 R7 M64 \n",
      "[  0] Utilization = 0.00 | pJ/Compute =   70.051 | L3[WIO] Q1 - L2[I] Q1 - L1[W] Q1 - L0[] Q112 P112 S7 R7 M64 C3 \n",
      "[  4] Utilization = 0.00 | pJ/Compute =   70.051 | L3[WIO] Q1 - L2[I] C3 - L1[W] Q1 - L0[] Q112 P112 S7 R7 M64 \n",
      "[  8] Utilization = 0.22 | pJ/Compute =   13.390 | L3[WIO] M2 - L2[] P2 M2Y - L1[W] Q14 M4 C3 R7Y M4X - L0[W] Q8 P56 S7 \n",
      "[ 10] Utilization = 0.22 | pJ/Compute =   13.392 | L3[WIO] M2 - L2[W] P2 C3 M2Y - L1[W] Q14 M4 R7Y M4X - L0[W] Q8 P56 S7 \n",
      "[  2] Utilization = 0.00 | pJ/Compute =   70.051 | L3[WIO] Q1 - L2[I] Q1 - L1[W] C3 - L0[] Q112 P112 S7 R7 M64 \n",
      "[ 10] Utilization = 0.22 | pJ/Compute =   10.028 | L3[WIO] M2 - L2[I] P2 C3 M2Y - L1[] Q14 M4 R7Y M4X - L0[W] Q8 P56 S7 \n",
      "[ 10] Utilization = 0.22 | pJ/Compute =    9.966 | L3[WIO] M2 - L2[I] P2 C3 M2Y - L1[W] Q14 M4 R7Y M4X - L0[W] Q8 P56 S7 \n",
      "[  5] Utilization = 0.00 | pJ/Compute =   70.051 | L3[WIO] C3 - L2[I] Q1 - L1[W] Q1 - L0[] Q112 P112 S7 R7 M64 \n",
      "[ 10] Utilization = 0.22 | pJ/Compute =    9.964 | L3[WIO] M2 - L2[WI] P2 C3 M2Y - L1[W] Q14 M4 R7Y M4X - L0[W] Q8 P56 S7 \n",
      "[  6] Utilization = 0.22 | pJ/Compute =   11.529 | L3[WIO] M2 - L2[I] P2 M2Y - L1[W] Q14 M4 R7Y M4X - L0[] Q8 P56 S7 C3 \n",
      "[  0] Utilization = 0.00 | pJ/Compute =   43.127 | L3[WIO] Q1 - L2[O] Q1 - L1[W] Q1 - L0[] Q112 P112 S7 R7 M64 C3 \n",
      "[  4] Utilization = 0.00 | pJ/Compute =   43.127 | L3[WIO] Q1 - L2[O] C3 - L1[W] Q1 - L0[] Q112 P112 S7 R7 M64 \n",
      "[  8] Utilization = 0.22 | pJ/Compute =   10.028 | L3[WIO] M2 - L2[I] P2 M2Y - L1[] Q14 M4 C3 R7Y M4X - L0[W] Q8 P56 S7 \n",
      "[  1] Utilization = 0.01 | pJ/Compute =    9.448 | L3[WIO] Q1 - L2[IO] Q1 - L1[W] Q1 C3Y - L0[] Q112 P112 S7 R7 M64 \n",
      "[  2] Utilization = 0.00 | pJ/Compute =   43.127 | L3[WIO] Q1 - L2[O] Q1 - L1[W] C3 - L0[] Q112 P112 S7 R7 M64 \n",
      "[  0] Utilization = 0.00 | pJ/Compute =   15.364 | L3[WIO] Q1 - L2[IO] Q1 - L1[W] Q1 - L0[] Q112 P112 S7 R7 M64 C3 \n",
      "[  4] Utilization = 0.00 | pJ/Compute =   15.364 | L3[WIO] Q1 - L2[IO] C3 - L1[W] Q1 - L0[] Q112 P112 S7 R7 M64 \n",
      "[  8] Utilization = 0.22 | pJ/Compute =    9.963 | L3[WIO] M2 - L2[I] P2 M2Y - L1[W] Q14 M4 C3 R7Y M4X - L0[W] Q8 P56 S7 \n",
      "[  2] Utilization = 0.00 | pJ/Compute =   15.364 | L3[WIO] Q1 - L2[IO] Q1 - L1[W] C3 - L0[] Q112 P112 S7 R7 M64 \n",
      "[ 10] Utilization = 0.22 | pJ/Compute =    6.019 | L3[WIO] M2 - L2[O] P2 C3 M2Y - L1[] Q14 M4 R7Y M4X - L0[W] Q8 P56 S7 \n",
      "[ 10] Utilization = 0.22 | pJ/Compute =    5.957 | L3[WIO] M2 - L2[O] P2 C3 M2Y - L1[W] Q14 M4 R7Y M4X - L0[W] Q8 P56 S7 \n",
      "[ 10] Utilization = 0.22 | pJ/Compute =    5.955 | L3[WIO] M2 - L2[WO] P2 C3 M2Y - L1[W] Q14 M4 R7Y M4X - L0[W] Q8 P56 S7 \n",
      "[ 10] Utilization = 0.22 | pJ/Compute =    2.592 | L3[WIO] M2 - L2[IO] P2 C3 M2Y - L1[] Q14 M4 R7Y M4X - L0[W] Q8 P56 S7 \n",
      "[ 10] Utilization = 0.22 | pJ/Compute =    2.529 | L3[WIO] M2 - L2[IO] P2 C3 M2Y - L1[W] Q14 M4 R7Y M4X - L0[W] Q8 P56 S7 \n",
      "[ 10] Utilization = 0.22 | pJ/Compute =    2.528 | L3[WIO] M2 - L2[WIO] P2 C3 M2Y - L1[W] Q14 M4 R7Y M4X - L0[W] Q8 P56 S7 \n",
      "[  5] Utilization = 0.00 | pJ/Compute =   43.127 | L3[WIO] C3 - L2[O] Q1 - L1[W] Q1 - L0[] Q112 P112 S7 R7 M64 \n",
      "[  5] Utilization = 0.00 | pJ/Compute =   15.364 | L3[WIO] C3 - L2[IO] Q1 - L1[W] Q1 - L0[] Q112 P112 S7 R7 M64 \n",
      "[  8] Utilization = 0.22 | pJ/Compute =    6.019 | L3[WIO] M2 - L2[O] P2 M2Y - L1[] Q14 M4 C3 R7Y M4X - L0[W] Q8 P56 S7 \n",
      "[  4] Utilization = 0.11 | pJ/Compute =   49.372 | L3[WIO] M2 - L2[] P2 C3 M2Y - L1[] Q14 M4 R7Y M2X - L0[] Q8 P56 S7 M2 \n",
      "[  4] Utilization = 0.11 | pJ/Compute =   18.960 | L3[WIO] M2 - L2[] P2 C3 M2Y - L1[W] Q14 M4 R7Y M2X - L0[] Q8 P56 S7 M2 \n",
      "[  8] Utilization = 0.22 | pJ/Compute =    5.954 | L3[WIO] M2 - L2[O] P2 M2Y - L1[W] Q14 M4 C3 R7Y M4X - L0[W] Q8 P56 S7 \n",
      "[  4] Utilization = 0.11 | pJ/Compute =   18.958 | L3[WIO] M2 - L2[W] P2 C3 M2Y - L1[W] Q14 M4 R7Y M2X - L0[] Q8 P56 S7 M2 \n",
      "[  6] Utilization = 0.22 | pJ/Compute =    7.521 | L3[WIO] M2 - L2[O] P2 M2Y - L1[W] Q14 M4 R7Y M4X - L0[] Q8 P56 S7 C3 \n",
      "[  4] Utilization = 0.11 | pJ/Compute =   12.056 | L3[WIO] M2 - L2[I] P2 C3 M2Y - L1[W] Q14 M4 R7Y M2X - L0[] Q8 P56 S7 M2 \n",
      "[  4] Utilization = 0.11 | pJ/Compute =   12.054 | L3[WIO] M2 - L2[WI] P2 C3 M2Y - L1[W] Q14 M4 R7Y M2X - L0[] Q8 P56 S7 M2 \n",
      "[  8] Utilization = 0.22 | pJ/Compute =    2.592 | L3[WIO] M2 - L2[IO] P2 M2Y - L1[] Q14 M4 C3 R7Y M4X - L0[W] Q8 P56 S7 \n",
      "[  8] Utilization = 0.22 | pJ/Compute =    2.526 | L3[WIO] M2 - L2[IO] P2 M2Y - L1[W] Q14 M4 C3 R7Y M4X - L0[W] Q8 P56 S7 \n",
      "[  0] Utilization = 0.11 | pJ/Compute =   49.372 | L3[WIO] M2 - L2[] P2 M2Y - L1[] Q14 M4 R7Y M2X - L0[] Q8 P56 S7 M2 C3 \n",
      "[  6] Utilization = 0.22 | pJ/Compute =    4.093 | L3[WIO] M2 - L2[IO] P2 M2Y - L1[W] Q14 M4 R7Y M4X - L0[] Q8 P56 S7 C3 \n",
      "[  0] Utilization = 0.11 | pJ/Compute =   18.957 | L3[WIO] M2 - L2[] P2 M2Y - L1[W] Q14 M4 R7Y M2X - L0[] Q8 P56 S7 M2 C3 \n",
      "[  4] Utilization = 0.11 | pJ/Compute =   11.523 | L3[WIO] M2 - L2[O] P2 C3 M2Y - L1[W] Q14 M4 R7Y M2X - L0[] Q8 P56 S7 M2 \n",
      "[  4] Utilization = 0.11 | pJ/Compute =   11.522 | L3[WIO] M2 - L2[WO] P2 C3 M2Y - L1[W] Q14 M4 R7Y M2X - L0[] Q8 P56 S7 M2 \n",
      "[  0] Utilization = 0.11 | pJ/Compute =   12.053 | L3[WIO] M2 - L2[I] P2 M2Y - L1[W] Q14 M4 R7Y M2X - L0[] Q8 P56 S7 M2 C3 \n",
      "[  4] Utilization = 0.11 | pJ/Compute =    4.619 | L3[WIO] M2 - L2[IO] P2 C3 M2Y - L1[W] Q14 M4 R7Y M2X - L0[] Q8 P56 S7 M2 \n",
      "[  2] Utilization = 0.11 | pJ/Compute =   49.372 | L3[WIO] M2 - L2[] P2 M2Y - L1[] Q14 M4 C3 R7Y M2X - L0[] Q8 P56 S7 M2 \n",
      "[  4] Utilization = 0.11 | pJ/Compute =    4.618 | L3[WIO] M2 - L2[WIO] P2 C3 M2Y - L1[W] Q14 M4 R7Y M2X - L0[] Q8 P56 S7 M2 \n",
      "[  2] Utilization = 0.11 | pJ/Compute =   18.957 | L3[WIO] M2 - L2[] P2 M2Y - L1[W] Q14 M4 C3 R7Y M2X - L0[] Q8 P56 S7 M2 \n",
      "[  5] Utilization = 0.11 | pJ/Compute =   49.372 | L3[WIO] M2 C3 - L2[] P2 M2Y - L1[] Q14 M4 R7Y M2X - L0[] Q8 P56 S7 M2 \n"
     ]
    },
    {
     "name": "stderr",
     "output_type": "stream",
     "text": [
      "[  5] Utilization = 0.11 | pJ/Compute =   18.957 | L3[WIO] M2 C3 - L2[] P2 M2Y - L1[W] Q14 M4 R7Y M2X - L0[] Q8 P56 S7 M2 \n",
      "[  0] Utilization = 0.11 | pJ/Compute =   11.521 | L3[WIO] M2 - L2[O] P2 M2Y - L1[W] Q14 M4 R7Y M2X - L0[] Q8 P56 S7 M2 C3 \n",
      "[  5] Utilization = 0.11 | pJ/Compute =   12.102 | L3[WIO] M2 C3 - L2[I] P2 M2Y - L1[W] Q14 M4 R7Y M2X - L0[] Q8 P56 S7 M2 \n",
      "[  2] Utilization = 0.11 | pJ/Compute =   12.053 | L3[WIO] M2 - L2[I] P2 M2Y - L1[W] Q14 M4 C3 R7Y M2X - L0[] Q8 P56 S7 M2 \n",
      "[  0] Utilization = 0.11 | pJ/Compute =    4.617 | L3[WIO] M2 - L2[IO] P2 M2Y - L1[W] Q14 M4 R7Y M2X - L0[] Q8 P56 S7 M2 C3 \n",
      "[  5] Utilization = 0.11 | pJ/Compute =   11.521 | L3[WIO] M2 C3 - L2[O] P2 M2Y - L1[W] Q14 M4 R7Y M2X - L0[] Q8 P56 S7 M2 \n",
      "[  5] Utilization = 0.11 | pJ/Compute =    4.665 | L3[WIO] M2 C3 - L2[IO] P2 M2Y - L1[W] Q14 M4 R7Y M2X - L0[] Q8 P56 S7 M2 \n",
      "[  1] Utilization = 0.19 | pJ/Compute =   43.277 | L3[WIO] M2 - L2[] P2 M2Y - L1[] Q14 M4 R7Y M2X C3X - L0[] Q8 P56 S7 M2 \n",
      "[  1] Utilization = 0.33 | pJ/Compute =   12.862 | L3[WIO] M2 - L2[] P2 M2Y - L1[W] Q14 M4 R7Y M2X C3X - L0[] Q8 P56 S7 M2 \n",
      "[  1] Utilization = 0.33 | pJ/Compute =    5.958 | L3[WIO] M2 - L2[I] P2 M2Y - L1[W] Q14 M4 R7Y M2X C3X - L0[] Q8 P56 S7 M2 \n",
      "[  2] Utilization = 0.11 | pJ/Compute =   11.521 | L3[WIO] M2 - L2[O] P2 M2Y - L1[W] Q14 M4 C3 R7Y M2X - L0[] Q8 P56 S7 M2 \n",
      "[  2] Utilization = 0.11 | pJ/Compute =    4.617 | L3[WIO] M2 - L2[IO] P2 M2Y - L1[W] Q14 M4 C3 R7Y M2X - L0[] Q8 P56 S7 M2 \n",
      "[  1] Utilization = 0.33 | pJ/Compute =    3.771 | L3[WIO] M2 - L2[IO] P2 M2Y - L1[W] Q14 M4 R7Y M2X C3X - L0[] Q8 P56 S7 M2 \n",
      "[ 10] STATEMENT: 91 valid mappings found, terminating search.\n",
      "[  8] STATEMENT: 91 valid mappings found, terminating search.\n",
      "[  4] STATEMENT: 91 valid mappings found, terminating search.\n",
      "[  0] STATEMENT: 91 valid mappings found, terminating search.\n",
      "[  1] STATEMENT: 91 valid mappings found, terminating search.\n",
      "[  6] STATEMENT: 91 valid mappings found, terminating search.\n",
      "[  2] STATEMENT: 91 valid mappings found, terminating search.\n",
      "[  5] STATEMENT: 91 valid mappings found, terminating search.\n"
     ]
    },
    {
     "name": "stdout",
     "output_type": "stream",
     "text": [
      "\n",
      "\n",
      "Summary stats for best mapping found by mapper:\n",
      "  Utilization = 0.33 | pJ/Compute =    3.771\n"
     ]
    },
    {
     "name": "stderr",
     "output_type": "stream",
     "text": [
      "+ for workload in \"${WORKLOADS[@]}\"\n",
      "+ echo 'Processing alexnet_conv1_sparse with ideal_sparse_tensor_core...'\n"
     ]
    },
    {
     "name": "stdout",
     "output_type": "stream",
     "text": [
      "Processing alexnet_conv1_sparse with ideal_sparse_tensor_core...\n"
     ]
    },
    {
     "name": "stderr",
     "output_type": "stream",
     "text": [
      "+ mkdir -p /home/workspace/2022.micro.artifact/evaluation_setups/unstructured_sparse_eval/outputs/ideal_alexnet_conv1_sparse\n",
      "+ echo 'Checking required files:'\n",
      "+ ls -la /home/workspace/2022.micro.artifact/evaluation_setups/unstructured_sparse_eval/arch/ideal_sparse_tensor_core.yaml\n"
     ]
    },
    {
     "name": "stdout",
     "output_type": "stream",
     "text": [
      "Checking required files:\n",
      "-rw-r--r-- 1 workspace workspace 3253 Apr 13 06:17 /home/workspace/2022.micro.artifact/evaluation_setups/unstructured_sparse_eval/arch/ideal_sparse_tensor_core.yaml\n"
     ]
    },
    {
     "name": "stderr",
     "output_type": "stream",
     "text": [
      "+ ls -la /home/workspace/2022.micro.artifact/evaluation_setups/unstructured_sparse_eval/dataflow/weight_stationary.yaml\n"
     ]
    },
    {
     "name": "stdout",
     "output_type": "stream",
     "text": [
      "-rw-r--r-- 1 workspace workspace 425 Apr 13 06:12 /home/workspace/2022.micro.artifact/evaluation_setups/unstructured_sparse_eval/dataflow/weight_stationary.yaml\n"
     ]
    },
    {
     "name": "stderr",
     "output_type": "stream",
     "text": [
      "+ ls -la /home/workspace/2022.micro.artifact/evaluation_setups/unstructured_sparse_eval/sparse-opt/ideal.yaml\n"
     ]
    },
    {
     "name": "stdout",
     "output_type": "stream",
     "text": [
      "-rw-r--r-- 1 workspace workspace 251 Apr 13 06:24 /home/workspace/2022.micro.artifact/evaluation_setups/unstructured_sparse_eval/sparse-opt/ideal.yaml\n"
     ]
    },
    {
     "name": "stderr",
     "output_type": "stream",
     "text": [
      "+ ls -la /home/workspace/2022.micro.artifact/evaluation_setups/unstructured_sparse_eval/workload/alexnet_conv1_sparse.yaml\n"
     ]
    },
    {
     "name": "stdout",
     "output_type": "stream",
     "text": [
      "-rw-r--r-- 1 workspace workspace 961 Apr  4 04:34 /home/workspace/2022.micro.artifact/evaluation_setups/unstructured_sparse_eval/workload/alexnet_conv1_sparse.yaml\n"
     ]
    },
    {
     "name": "stderr",
     "output_type": "stream",
     "text": [
      "+ ls -la /home/workspace/2022.micro.artifact/evaluation_setups/unstructured_sparse_eval/mapper/mapper.yaml\n"
     ]
    },
    {
     "name": "stdout",
     "output_type": "stream",
     "text": [
      "-rw-r--r-- 1 workspace workspace 357 Apr  4 04:34 /home/workspace/2022.micro.artifact/evaluation_setups/unstructured_sparse_eval/mapper/mapper.yaml\n"
     ]
    },
    {
     "name": "stderr",
     "output_type": "stream",
     "text": [
      "+ ls -la /home/workspace/2022.micro.artifact/evaluation_setups/unstructured_sparse_eval/ert_art/ERT_ideal.yaml\n"
     ]
    },
    {
     "name": "stdout",
     "output_type": "stream",
     "text": [
      "-rw-r--r-- 1 workspace workspace 2114 Apr 13 06:18 /home/workspace/2022.micro.artifact/evaluation_setups/unstructured_sparse_eval/ert_art/ERT_ideal.yaml\n"
     ]
    },
    {
     "name": "stderr",
     "output_type": "stream",
     "text": [
      "+ ls -la /home/workspace/2022.micro.artifact/evaluation_setups/unstructured_sparse_eval/ert_art/ART.yaml\n"
     ]
    },
    {
     "name": "stdout",
     "output_type": "stream",
     "text": [
      "-rw-r--r-- 1 workspace workspace 312 Apr  4 04:34 /home/workspace/2022.micro.artifact/evaluation_setups/unstructured_sparse_eval/ert_art/ART.yaml\n"
     ]
    },
    {
     "name": "stderr",
     "output_type": "stream",
     "text": [
      "+ timeloop-mapper /home/workspace/2022.micro.artifact/evaluation_setups/unstructured_sparse_eval/arch/ideal_sparse_tensor_core.yaml /home/workspace/2022.micro.artifact/evaluation_setups/unstructured_sparse_eval/dataflow/weight_stationary.yaml /home/workspace/2022.micro.artifact/evaluation_setups/unstructured_sparse_eval/sparse-opt/ideal.yaml /home/workspace/2022.micro.artifact/evaluation_setups/unstructured_sparse_eval/workload/alexnet_conv1_sparse.yaml /home/workspace/2022.micro.artifact/evaluation_setups/unstructured_sparse_eval/mapper/mapper.yaml /home/workspace/2022.micro.artifact/evaluation_setups/unstructured_sparse_eval/ert_art/ERT_ideal.yaml /home/workspace/2022.micro.artifact/evaluation_setups/unstructured_sparse_eval/ert_art/ART.yaml -o /home/workspace/2022.micro.artifact/evaluation_setups/unstructured_sparse_eval/outputs/ideal_alexnet_conv1_sparse\n"
     ]
    },
    {
     "name": "stdout",
     "output_type": "stream",
     "text": [
      "  _______                __                \n",
      " /_  __(_)___ ___  ___  / /___  ____  ____ \n",
      "  / / / / __ `__ \\/ _ \\/ / __ \\/ __ \\/ __ \\\n",
      " / / / / / / / / /  __/ / /_/ / /_/ / /_/ /\n",
      "/_/ /_/_/ /_/ /_/\\___/_/\\____/\\____/ .___/ \n",
      "                                  /_/      \n",
      "\n",
      "Problem configuration complete.\n",
      "Found Accelergy ERT (energy reference table), replacing internal energy model.\n",
      "Found Accelergy ART (area reference table), replacing internal area model.\n",
      "Architecture configuration complete.\n",
      "Sparse optimization configuration complete.\n",
      "Using all available hardware threads = 11\n",
      "Mapper configuration complete.\n",
      "Initializing Index Factorization subspace.\n",
      "  Factorization options along problem dimension C = 6\n",
      "  Factorization options along problem dimension M = 1512\n",
      "  Factorization options along problem dimension R = 6\n",
      "  Factorization options along problem dimension S = 6\n",
      "  Factorization options along problem dimension N = 21\n",
      "  Factorization options along problem dimension P = 336\n",
      "  Factorization options along problem dimension Q = 336\n",
      "Mapspace Dimension [IndexFactorization] Size: 774289539072\n",
      "Mapspace Dimension [LoopPermutation] Size: 3252016064102400000\n",
      "Mapspace Dimension [Spatial] Size: 64\n",
      "Mapspace Dimension [DatatypeBypass] Size: 512\n",
      "Mapspace split! Per-split Mapping Dimension [IndexFactorization] Size: 70389958098 Residue: 6\n",
      "Mapspace construction complete.\n",
      "Search configuration complete.\n"
     ]
    },
    {
     "name": "stderr",
     "output_type": "stream",
     "text": [
      "[ 10] STATEMENT: 3600 invalid mappings (3600 fanout, 0 capacity) found since the last valid mapping, terminating search.\n",
      "[  9] STATEMENT: 3600 invalid mappings (3600 fanout, 0 capacity) found since the last valid mapping, terminating search.\n",
      "[  8] STATEMENT: 3600 invalid mappings (3600 fanout, 0 capacity) found since the last valid mapping, terminating search.\n",
      "[  6] STATEMENT: 3600 invalid mappings (3600 fanout, 0 capacity) found since the last valid mapping, terminating search.\n",
      "[  7] STATEMENT: 3600 invalid mappings (3600 fanout, 0 capacity) found since the last valid mapping, terminating search.\n",
      "[  3] STATEMENT: 3600 invalid mappings (3600 fanout, 0 capacity) found since the last valid mapping, terminating search.\n",
      "[  4] Utilization = 0.00 | pJ/Compute =  128.359 | L3[WIO] Q1 - L2[] C3 - L1[] Q1 - L0[] Q56 P56 N4 S11 R11 M96 \n",
      "[  1] Utilization = 0.01 | pJ/Compute =   85.692 | L3[WIO] Q1 - L2[] Q1 - L1[] Q1 C3Y - L0[] Q56 P56 N4 S11 R11 M96 \n",
      "[  0] Utilization = 0.00 | pJ/Compute =  128.359 | L3[WIO] Q1 - L2[] Q1 - L1[] Q1 - L0[] Q56 P56 N4 S11 R11 M96 C3 \n",
      "[  5] Utilization = 0.00 | pJ/Compute =  128.359 | L3[WIO] C3 - L2[] Q1 - L1[] Q1 - L0[] Q56 P56 N4 S11 R11 M96 \n",
      "[  2] Utilization = 0.00 | pJ/Compute =  128.359 | L3[WIO] Q1 - L2[] Q1 - L1[] C3 - L0[] Q56 P56 N4 S11 R11 M96 \n",
      "[  1] Utilization = 0.01 | pJ/Compute =   57.883 | L3[WIO] Q1 - L2[W] Q1 - L1[] Q1 C3Y - L0[] Q56 P56 N4 S11 R11 M96 \n",
      "[  2] Utilization = 0.00 | pJ/Compute =  100.550 | L3[WIO] Q1 - L2[W] Q1 - L1[] C3 - L0[] Q56 P56 N4 S11 R11 M96 \n",
      "[  4] Utilization = 0.00 | pJ/Compute =   97.944 | L3[WIO] Q1 - L2[] C3 - L1[W] Q1 - L0[] Q56 P56 N4 S11 R11 M96 \n",
      "[  0] Utilization = 0.00 | pJ/Compute =  100.550 | L3[WIO] Q1 - L2[W] Q1 - L1[] Q1 - L0[] Q56 P56 N4 S11 R11 M96 C3 \n",
      "[  5] Utilization = 0.00 | pJ/Compute =   97.944 | L3[WIO] C3 - L2[] Q1 - L1[W] Q1 - L0[] Q56 P56 N4 S11 R11 M96 \n",
      "[  1] Utilization = 0.01 | pJ/Compute =   30.125 | L3[WIO] Q1 - L2[WI] Q1 - L1[] Q1 C3Y - L0[] Q56 P56 N4 S11 R11 M96 \n",
      "[  2] Utilization = 0.00 | pJ/Compute =   72.791 | L3[WIO] Q1 - L2[WI] Q1 - L1[] C3 - L0[] Q56 P56 N4 S11 R11 M96 \n",
      "[  0] Utilization = 0.00 | pJ/Compute =   72.791 | L3[WIO] Q1 - L2[WI] Q1 - L1[] Q1 - L0[] Q56 P56 N4 S11 R11 M96 C3 \n",
      "[  4] Utilization = 0.00 | pJ/Compute =   70.185 | L3[WIO] Q1 - L2[I] C3 - L1[W] Q1 - L0[] Q56 P56 N4 S11 R11 M96 \n",
      "[  5] Utilization = 0.00 | pJ/Compute =   70.185 | L3[WIO] C3 - L2[I] Q1 - L1[W] Q1 - L0[] Q56 P56 N4 S11 R11 M96 \n",
      "[  2] Utilization = 0.00 | pJ/Compute =   45.601 | L3[WIO] Q1 - L2[WO] Q1 - L1[] C3 - L0[] Q56 P56 N4 S11 R11 M96 \n",
      "[  0] Utilization = 0.00 | pJ/Compute =   45.601 | L3[WIO] Q1 - L2[WO] Q1 - L1[] Q1 - L0[] Q56 P56 N4 S11 R11 M96 C3 \n",
      "[  4] Utilization = 0.00 | pJ/Compute =   42.995 | L3[WIO] Q1 - L2[O] C3 - L1[W] Q1 - L0[] Q56 P56 N4 S11 R11 M96 \n",
      "[  1] Utilization = 0.01 | pJ/Compute =   11.927 | L3[WIO] Q1 - L2[WIO] Q1 - L1[] Q1 C3Y - L0[] Q56 P56 N4 S11 R11 M96 \n",
      "[  2] Utilization = 0.00 | pJ/Compute =   17.843 | L3[WIO] Q1 - L2[WIO] Q1 - L1[] C3 - L0[] Q56 P56 N4 S11 R11 M96 \n",
      "[  0] Utilization = 0.00 | pJ/Compute =   17.843 | L3[WIO] Q1 - L2[WIO] Q1 - L1[] Q1 - L0[] Q56 P56 N4 S11 R11 M96 C3 \n",
      "[  5] Utilization = 0.00 | pJ/Compute =   42.995 | L3[WIO] C3 - L2[O] Q1 - L1[W] Q1 - L0[] Q56 P56 N4 S11 R11 M96 \n",
      "[  4] Utilization = 0.00 | pJ/Compute =   15.237 | L3[WIO] Q1 - L2[IO] C3 - L1[W] Q1 - L0[] Q56 P56 N4 S11 R11 M96 \n",
      "[  5] Utilization = 0.00 | pJ/Compute =   15.237 | L3[WIO] C3 - L2[IO] Q1 - L1[W] Q1 - L0[] Q56 P56 N4 S11 R11 M96 \n",
      "[  2] STATEMENT: 3600 invalid mappings (3600 fanout, 0 capacity) found since the last valid mapping, terminating search.\n",
      "[  0] STATEMENT: 3600 invalid mappings (3600 fanout, 0 capacity) found since the last valid mapping, terminating search.\n",
      "[  4] STATEMENT: 3600 invalid mappings (3600 fanout, 0 capacity) found since the last valid mapping, terminating search.\n",
      "[  5] STATEMENT: 3600 invalid mappings (3600 fanout, 0 capacity) found since the last valid mapping, terminating search.\n",
      "[  1] STATEMENT: 3600 invalid mappings (3600 fanout, 0 capacity) found since the last valid mapping, terminating search.\n"
     ]
    },
    {
     "name": "stdout",
     "output_type": "stream",
     "text": [
      "\n",
      "\n",
      "Summary stats for best mapping found by mapper:\n",
      "  Utilization = 0.01 | pJ/Compute =   11.927\n"
     ]
    },
    {
     "name": "stderr",
     "output_type": "stream",
     "text": [
      "+ for workload in \"${WORKLOADS[@]}\"\n",
      "+ echo 'Processing mobilenet_conv1_sparse with ideal_sparse_tensor_core...'\n",
      "+ mkdir -p /home/workspace/2022.micro.artifact/evaluation_setups/unstructured_sparse_eval/outputs/ideal_mobilenet_conv1_sparse\n"
     ]
    },
    {
     "name": "stdout",
     "output_type": "stream",
     "text": [
      "Processing mobilenet_conv1_sparse with ideal_sparse_tensor_core...\n"
     ]
    },
    {
     "name": "stderr",
     "output_type": "stream",
     "text": [
      "+ echo 'Checking required files:'\n",
      "+ ls -la /home/workspace/2022.micro.artifact/evaluation_setups/unstructured_sparse_eval/arch/ideal_sparse_tensor_core.yaml\n"
     ]
    },
    {
     "name": "stdout",
     "output_type": "stream",
     "text": [
      "Checking required files:\n",
      "-rw-r--r-- 1 workspace workspace 3253 Apr 13 06:17 /home/workspace/2022.micro.artifact/evaluation_setups/unstructured_sparse_eval/arch/ideal_sparse_tensor_core.yaml\n"
     ]
    },
    {
     "name": "stderr",
     "output_type": "stream",
     "text": [
      "+ ls -la /home/workspace/2022.micro.artifact/evaluation_setups/unstructured_sparse_eval/dataflow/weight_stationary.yaml\n"
     ]
    },
    {
     "name": "stdout",
     "output_type": "stream",
     "text": [
      "-rw-r--r-- 1 workspace workspace 425 Apr 13 06:12 /home/workspace/2022.micro.artifact/evaluation_setups/unstructured_sparse_eval/dataflow/weight_stationary.yaml\n"
     ]
    },
    {
     "name": "stderr",
     "output_type": "stream",
     "text": [
      "+ ls -la /home/workspace/2022.micro.artifact/evaluation_setups/unstructured_sparse_eval/sparse-opt/ideal.yaml\n"
     ]
    },
    {
     "name": "stdout",
     "output_type": "stream",
     "text": [
      "-rw-r--r-- 1 workspace workspace 251 Apr 13 06:24 /home/workspace/2022.micro.artifact/evaluation_setups/unstructured_sparse_eval/sparse-opt/ideal.yaml\n"
     ]
    },
    {
     "name": "stderr",
     "output_type": "stream",
     "text": [
      "+ ls -la /home/workspace/2022.micro.artifact/evaluation_setups/unstructured_sparse_eval/workload/mobilenet_conv1_sparse.yaml\n"
     ]
    },
    {
     "name": "stdout",
     "output_type": "stream",
     "text": [
      "-rw-r--r-- 1 workspace workspace 1184 Apr  7 03:48 /home/workspace/2022.micro.artifact/evaluation_setups/unstructured_sparse_eval/workload/mobilenet_conv1_sparse.yaml\n"
     ]
    },
    {
     "name": "stderr",
     "output_type": "stream",
     "text": [
      "+ ls -la /home/workspace/2022.micro.artifact/evaluation_setups/unstructured_sparse_eval/mapper/mapper.yaml\n"
     ]
    },
    {
     "name": "stdout",
     "output_type": "stream",
     "text": [
      "-rw-r--r-- 1 workspace workspace 357 Apr  4 04:34 /home/workspace/2022.micro.artifact/evaluation_setups/unstructured_sparse_eval/mapper/mapper.yaml\n"
     ]
    },
    {
     "name": "stderr",
     "output_type": "stream",
     "text": [
      "+ ls -la /home/workspace/2022.micro.artifact/evaluation_setups/unstructured_sparse_eval/ert_art/ERT_ideal.yaml\n"
     ]
    },
    {
     "name": "stdout",
     "output_type": "stream",
     "text": [
      "-rw-r--r-- 1 workspace workspace 2114 Apr 13 06:18 /home/workspace/2022.micro.artifact/evaluation_setups/unstructured_sparse_eval/ert_art/ERT_ideal.yaml\n"
     ]
    },
    {
     "name": "stderr",
     "output_type": "stream",
     "text": [
      "+ ls -la /home/workspace/2022.micro.artifact/evaluation_setups/unstructured_sparse_eval/ert_art/ART.yaml\n"
     ]
    },
    {
     "name": "stdout",
     "output_type": "stream",
     "text": [
      "-rw-r--r-- 1 workspace workspace 312 Apr  4 04:34 /home/workspace/2022.micro.artifact/evaluation_setups/unstructured_sparse_eval/ert_art/ART.yaml\n"
     ]
    },
    {
     "name": "stderr",
     "output_type": "stream",
     "text": [
      "+ timeloop-mapper /home/workspace/2022.micro.artifact/evaluation_setups/unstructured_sparse_eval/arch/ideal_sparse_tensor_core.yaml /home/workspace/2022.micro.artifact/evaluation_setups/unstructured_sparse_eval/dataflow/weight_stationary.yaml /home/workspace/2022.micro.artifact/evaluation_setups/unstructured_sparse_eval/sparse-opt/ideal.yaml /home/workspace/2022.micro.artifact/evaluation_setups/unstructured_sparse_eval/workload/mobilenet_conv1_sparse.yaml /home/workspace/2022.micro.artifact/evaluation_setups/unstructured_sparse_eval/mapper/mapper.yaml /home/workspace/2022.micro.artifact/evaluation_setups/unstructured_sparse_eval/ert_art/ERT_ideal.yaml /home/workspace/2022.micro.artifact/evaluation_setups/unstructured_sparse_eval/ert_art/ART.yaml -o /home/workspace/2022.micro.artifact/evaluation_setups/unstructured_sparse_eval/outputs/ideal_mobilenet_conv1_sparse\n"
     ]
    },
    {
     "name": "stdout",
     "output_type": "stream",
     "text": [
      "  _______                __                \n",
      " /_  __(_)___ ___  ___  / /___  ____  ____ \n",
      "  / / / / __ `__ \\/ _ \\/ / __ \\/ __ \\/ __ \\\n",
      " / / / / / / / / /  __/ / /_/ / /_/ / /_/ /\n",
      "/_/ /_/_/ /_/ /_/\\___/_/\\____/\\____/ .___/ \n",
      "                                  /_/      \n",
      "\n",
      "Problem configuration complete.\n",
      "Found Accelergy ERT (energy reference table), replacing internal energy model.\n",
      "Found Accelergy ART (area reference table), replacing internal area model.\n",
      "Architecture configuration complete.\n",
      "Sparse optimization configuration complete.\n",
      "Using all available hardware threads = 11\n",
      "Mapper configuration complete.\n",
      "Initializing Index Factorization subspace.\n",
      "  Factorization options along problem dimension R = 6\n",
      "  Factorization options along problem dimension S = 6\n",
      "  Factorization options along problem dimension E = 756\n",
      "  Factorization options along problem dimension F = 756\n",
      "  Factorization options along problem dimension C = 6\n",
      "  Factorization options along problem dimension M = 252\n",
      "  Factorization options along problem dimension N = 1\n",
      "  Factorization options along problem dimension G = 1\n",
      "Mapspace Dimension [IndexFactorization] Size: 31109847552\n",
      "Mapspace Dimension [LoopPermutation] Size: 106562062388507443200000\n",
      "Mapspace Dimension [Spatial] Size: 81\n",
      "Mapspace Dimension [DatatypeBypass] Size: 512\n",
      "Mapspace split! Per-split Mapping Dimension [IndexFactorization] Size: 2828167960 Residue: 8\n",
      "Mapspace construction complete.\n",
      "Search configuration complete.\n"
     ]
    },
    {
     "name": "stderr",
     "output_type": "stream",
     "text": [
      "[  9] STATEMENT: 3600 invalid mappings (3600 fanout, 0 capacity) found since the last valid mapping, terminating search.\n",
      "[  3] STATEMENT: 3600 invalid mappings (3600 fanout, 0 capacity) found since the last valid mapping, terminating search.\n",
      "[  0] Utilization = 0.00 | pJ/Compute =  127.262 | L3[WIO] G1 - L2[] G1 - L1[] G1 - L0[] M32 C3 F112 E112 S3 R3 \n",
      "[ 10] Utilization = 0.01 | pJ/Compute =   84.595 | L3[WIO] G1 - L2[] R3 - L1[] G1 S3Y - L0[] M32 C3 F112 E112 \n",
      "[  6] Utilization = 0.01 | pJ/Compute =   84.595 | L3[WIO] G1 - L2[] G1 - L1[] G1 S3Y - L0[] M32 C3 F112 E112 R3 \n",
      "[  4] Utilization = 0.00 | pJ/Compute =  127.262 | L3[WIO] G1 - L2[] R3 - L1[] G1 - L0[] M32 C3 F112 E112 S3 \n",
      "[  1] Utilization = 0.01 | pJ/Compute =   84.595 | L3[WIO] G1 - L2[] G1 - L1[] G1 R3Y - L0[] M32 C3 F112 E112 S3 \n",
      "[  5] Utilization = 0.00 | pJ/Compute =  127.262 | L3[WIO] R3 - L2[] G1 - L1[] G1 - L0[] M32 C3 F112 E112 S3 \n",
      "[  7] Utilization = 0.04 | pJ/Compute =   70.373 | L3[WIO] G1 - L2[] G1 - L1[] G1 S3Y R3X - L0[] M32 C3 F112 E112 \n",
      "[  2] Utilization = 0.00 | pJ/Compute =  127.262 | L3[WIO] G1 - L2[] G1 - L1[] R3 - L0[] M32 C3 F112 E112 S3 \n",
      "[  8] Utilization = 0.01 | pJ/Compute =   84.595 | L3[WIO] G1 - L2[] G1 - L1[] R3 S3Y - L0[] M32 C3 F112 E112 \n",
      "[  7] Utilization = 0.04 | pJ/Compute =   39.958 | L3[WIO] G1 - L2[] G1 - L1[W] G1 S3Y R3X - L0[] M32 C3 F112 E112 \n",
      "[  8] Utilization = 0.01 | pJ/Compute =   54.180 | L3[WIO] G1 - L2[] G1 - L1[W] R3 S3Y - L0[] M32 C3 F112 E112 \n",
      "[  4] Utilization = 0.00 | pJ/Compute =   96.847 | L3[WIO] G1 - L2[] R3 - L1[W] G1 - L0[] M32 C3 F112 E112 S3 \n",
      "[  1] Utilization = 0.01 | pJ/Compute =   54.180 | L3[WIO] G1 - L2[] G1 - L1[W] G1 R3Y - L0[] M32 C3 F112 E112 S3 \n",
      "[  5] Utilization = 0.00 | pJ/Compute =   96.847 | L3[WIO] R3 - L2[] G1 - L1[W] G1 - L0[] M32 C3 F112 E112 S3 \n",
      "[  0] Utilization = 0.00 | pJ/Compute =   96.847 | L3[WIO] G1 - L2[] G1 - L1[W] G1 - L0[] M32 C3 F112 E112 S3 R3 \n",
      "[  2] Utilization = 0.00 | pJ/Compute =   96.847 | L3[WIO] G1 - L2[] G1 - L1[W] R3 - L0[] M32 C3 F112 E112 S3 \n",
      "[ 10] Utilization = 0.01 | pJ/Compute =   54.180 | L3[WIO] G1 - L2[] R3 - L1[W] G1 S3Y - L0[] M32 C3 F112 E112 \n",
      "[  7] Utilization = 0.04 | pJ/Compute =   12.278 | L3[WIO] G1 - L2[I] G1 - L1[W] G1 S3Y R3X - L0[] M32 C3 F112 E112 \n",
      "[  4] Utilization = 0.00 | pJ/Compute =   69.167 | L3[WIO] G1 - L2[I] R3 - L1[W] G1 - L0[] M32 C3 F112 E112 S3 \n",
      "[  8] Utilization = 0.01 | pJ/Compute =   26.500 | L3[WIO] G1 - L2[I] G1 - L1[W] R3 S3Y - L0[] M32 C3 F112 E112 \n",
      "[  6] Utilization = 0.01 | pJ/Compute =   54.180 | L3[WIO] G1 - L2[] G1 - L1[W] G1 S3Y - L0[] M32 C3 F112 E112 R3 \n",
      "[  1] Utilization = 0.01 | pJ/Compute =   26.500 | L3[WIO] G1 - L2[I] G1 - L1[W] G1 R3Y - L0[] M32 C3 F112 E112 S3 \n",
      "[  0] Utilization = 0.00 | pJ/Compute =   69.167 | L3[WIO] G1 - L2[I] G1 - L1[W] G1 - L0[] M32 C3 F112 E112 S3 R3 \n",
      "[  6] Utilization = 0.01 | pJ/Compute =   26.500 | L3[WIO] G1 - L2[I] G1 - L1[W] G1 S3Y - L0[] M32 C3 F112 E112 R3 \n",
      "[ 10] Utilization = 0.01 | pJ/Compute =   26.500 | L3[WIO] G1 - L2[I] R3 - L1[W] G1 S3Y - L0[] M32 C3 F112 E112 \n",
      "[  5] Utilization = 0.00 | pJ/Compute =   69.167 | L3[WIO] R3 - L2[I] G1 - L1[W] G1 - L0[] M32 C3 F112 E112 S3 \n",
      "[  2] Utilization = 0.00 | pJ/Compute =   69.167 | L3[WIO] G1 - L2[I] G1 - L1[W] R3 - L0[] M32 C3 F112 E112 S3 \n",
      "[  4] Utilization = 0.00 | pJ/Compute =   44.109 | L3[WIO] G1 - L2[O] R3 - L1[W] G1 - L0[] M32 C3 F112 E112 S3 \n",
      "[  0] Utilization = 0.00 | pJ/Compute =   44.109 | L3[WIO] G1 - L2[O] G1 - L1[W] G1 - L0[] M32 C3 F112 E112 S3 R3 \n",
      "[  7] Utilization = 0.04 | pJ/Compute =    8.541 | L3[WIO] G1 - L2[IO] G1 - L1[W] G1 S3Y R3X - L0[] M32 C3 F112 E112 \n",
      "[  4] Utilization = 0.00 | pJ/Compute =   16.429 | L3[WIO] G1 - L2[IO] R3 - L1[W] G1 - L0[] M32 C3 F112 E112 S3 \n",
      "[  0] Utilization = 0.00 | pJ/Compute =   16.429 | L3[WIO] G1 - L2[IO] G1 - L1[W] G1 - L0[] M32 C3 F112 E112 S3 R3 \n",
      "[  6] Utilization = 0.01 | pJ/Compute =   10.513 | L3[WIO] G1 - L2[IO] G1 - L1[W] G1 S3Y - L0[] M32 C3 F112 E112 R3 \n",
      "[ 10] Utilization = 0.01 | pJ/Compute =   10.513 | L3[WIO] G1 - L2[IO] R3 - L1[W] G1 S3Y - L0[] M32 C3 F112 E112 \n",
      "[  2] Utilization = 0.00 | pJ/Compute =   44.109 | L3[WIO] G1 - L2[O] G1 - L1[W] R3 - L0[] M32 C3 F112 E112 S3 \n",
      "[  5] Utilization = 0.00 | pJ/Compute =   44.109 | L3[WIO] R3 - L2[O] G1 - L1[W] G1 - L0[] M32 C3 F112 E112 S3 \n",
      "[  8] Utilization = 0.01 | pJ/Compute =   10.513 | L3[WIO] G1 - L2[IO] G1 - L1[W] R3 S3Y - L0[] M32 C3 F112 E112 \n",
      "[  1] Utilization = 0.01 | pJ/Compute =   10.513 | L3[WIO] G1 - L2[IO] G1 - L1[W] G1 R3Y - L0[] M32 C3 F112 E112 S3 \n",
      "[  5] Utilization = 0.00 | pJ/Compute =   16.429 | L3[WIO] R3 - L2[IO] G1 - L1[W] G1 - L0[] M32 C3 F112 E112 S3 \n",
      "[  2] Utilization = 0.00 | pJ/Compute =   16.429 | L3[WIO] G1 - L2[IO] G1 - L1[W] R3 - L0[] M32 C3 F112 E112 S3 \n",
      "[  4] STATEMENT: 3600 invalid mappings (3600 fanout, 0 capacity) found since the last valid mapping, terminating search.\n",
      "[  5] STATEMENT: 3600 invalid mappings (3600 fanout, 0 capacity) found since the last valid mapping, terminating search.\n",
      "[  0] STATEMENT: 3600 invalid mappings (3600 fanout, 0 capacity) found since the last valid mapping, terminating search.\n",
      "[  6] STATEMENT: 3600 invalid mappings (3600 fanout, 0 capacity) found since the last valid mapping, terminating search.\n",
      "[ 10] STATEMENT: 3600 invalid mappings (3600 fanout, 0 capacity) found since the last valid mapping, terminating search.\n",
      "[  7] STATEMENT: 3600 invalid mappings (3600 fanout, 0 capacity) found since the last valid mapping, terminating search.\n",
      "[  1] STATEMENT: 3600 invalid mappings (3600 fanout, 0 capacity) found since the last valid mapping, terminating search.\n",
      "[  2] STATEMENT: 3600 invalid mappings (3600 fanout, 0 capacity) found since the last valid mapping, terminating search.\n",
      "[  8] STATEMENT: 3600 invalid mappings (3600 fanout, 0 capacity) found since the last valid mapping, terminating search.\n"
     ]
    },
    {
     "name": "stdout",
     "output_type": "stream",
     "text": [
      "\n",
      "\n",
      "Summary stats for best mapping found by mapper:\n",
      "  Utilization = 0.04 | pJ/Compute =    8.541\n"
     ]
    },
    {
     "name": "stderr",
     "output_type": "stream",
     "text": [
      "\n",
      "real\t0m1.688s\n",
      "user\t0m2.619s\n",
      "sys\t0m0.212s\n"
     ]
    }
   ],
   "source": [
    "%%bash\n",
    "cd /home/workspace/2022.micro.artifact/evaluation_setups/unstructured_sparse_eval/scripts\n",
    "echo \"Running evaluation sweep for unstructured spares architecture with no overhead\"\n",
    "chmod +x sweep2.sh\n",
    "time ./sweep2.sh"
   ]
  },
  {
   "cell_type": "code",
   "execution_count": 152,
   "id": "1b302b34",
   "metadata": {},
   "outputs": [
    {
     "name": "stdout",
     "output_type": "stream",
     "text": [
      "\n",
      "Summary Statistics:\n",
      "\n",
      "Ideal Sparse Architecture:\n",
      "resnet50_conv1:\n",
      "  Cycles: 1,404,928\n",
      "  Energy: 52,738,074.87 pJ\n",
      "  Utilization: 84.00%\n",
      "alexnet_conv1_sparse:\n",
      "  Cycles: 145,711,104\n",
      "  Energy: 195,346,134.47 pJ\n",
      "  Utilization: 3.00%\n",
      "mobilenet_conv1_sparse:\n",
      "  Cycles: 1,204,224\n",
      "  Energy: 4,843,292.59 pJ\n",
      "  Utilization: 9.00%\n",
      "Ideal sparse architecture plots created successfully!\n"
     ]
    },
    {
     "name": "stderr",
     "output_type": "stream",
     "text": [
      "\n",
      "real\t0m1.255s\n",
      "user\t0m2.794s\n",
      "sys\t0m3.614s\n"
     ]
    }
   ],
   "source": [
    "%%bash\n",
    "cd /home/workspace/2022.micro.artifact/evaluation_setups/unstructured_sparse_eval/scripts && \\\n",
    "chmod +x parse_and_plot2.py && \\\n",
    "time ./parse_and_plot2.py"
   ]
  },
  {
   "cell_type": "code",
   "execution_count": 153,
   "id": "7972e684",
   "metadata": {},
   "outputs": [
    {
     "data": {
      "image/png": "[encoded data removed]",
      "text/plain": [
       "<IPython.core.display.Image object>"
      ]
     },
     "execution_count": 153,
     "metadata": {},
     "output_type": "execute_result"
    }
   ],
   "source": [
    "    from IPython.display import Image\n",
    "    import matplotlib.pyplot as plt\n",
    "\n",
    "    # Define path to the figure using the relative path\n",
    "    ideal_comparison_fig = \"../evaluation_setups/unstructured_sparse_eval/outputs/figures/ideal_comparison.png\"\n",
    "\n",
    "    # Display the image directly using IPython's Image display\n",
    "    Image(filename=ideal_comparison_fig)"
   ]
  },
  {
   "cell_type": "code",
   "execution_count": 128,
   "id": "6acfb046",
   "metadata": {},
   "outputs": [
    {
     "name": "stdout",
     "output_type": "stream",
     "text": [
      "Energy Breakdown by Hardware Level:\n",
      "============================================================\n",
      "\n",
      "Unstructured Architecture:\n",
      "\n",
      "ResNet-50:\n",
      "  L0_MAC: 52,738,074.87 pJ (11.85%)\n",
      "  L1_LRF: 0.00 pJ (0.00%)\n",
      "  L2_RF: 186,754,438.36 pJ (41.96%)\n",
      "  L3_SMEM: 174,563,655.04 pJ (39.22%)\n",
      "  L4_DRAM: 31,025,664.00 pJ (6.97%)\n",
      "\n",
      "AlexNet:\n",
      "  L0_MAC: 195,346,134.47 pJ (3.75%)\n",
      "  L1_LRF: 0.00 pJ (0.00%)\n",
      "  L2_RF: 0.00 pJ (0.00%)\n",
      "  L3_SMEM: 4,958,119,912.26 pJ (95.10%)\n",
      "  L4_DRAM: 60,141,056.00 pJ (1.15%)\n",
      "\n",
      "MobileNet:\n",
      "  L0_MAC: 4,843,292.59 pJ (5.23%)\n",
      "  L1_LRF: 0.00 pJ (0.00%)\n",
      "  L2_RF: 17,150,917.81 pJ (18.53%)\n",
      "  L3_SMEM: 56,457,443.04 pJ (60.99%)\n",
      "  L4_DRAM: 14,120,448.00 pJ (15.25%)\n",
      "\n",
      "Ideal Architecture:\n",
      "\n",
      "ResNet-50:\n",
      "  L0_MAC: 52,738,074.87 pJ (11.85%)\n",
      "  L1_LRF: 0.00 pJ (0.00%)\n",
      "  L2_RF: 186,754,438.36 pJ (41.96%)\n",
      "  L3_SMEM: 174,563,655.04 pJ (39.22%)\n",
      "  L4_DRAM: 31,025,664.00 pJ (6.97%)\n",
      "\n",
      "AlexNet:\n",
      "  L0_MAC: 195,346,134.47 pJ (3.75%)\n",
      "  L1_LRF: 0.00 pJ (0.00%)\n",
      "  L2_RF: 0.00 pJ (0.00%)\n",
      "  L3_SMEM: 4,958,119,912.26 pJ (95.10%)\n",
      "  L4_DRAM: 60,141,056.00 pJ (1.15%)\n",
      "\n",
      "MobileNet:\n",
      "  L0_MAC: 4,843,292.59 pJ (5.23%)\n",
      "  L1_LRF: 0.00 pJ (0.00%)\n",
      "  L2_RF: 17,150,917.81 pJ (18.53%)\n",
      "  L3_SMEM: 56,457,443.04 pJ (60.99%)\n",
      "  L4_DRAM: 14,120,448.00 pJ (15.25%)\n",
      "\n",
      "Performance Comparison: Unstructured vs Ideal\n",
      "============================================================\n",
      "Unstructured Sparse Architecture:\n",
      " Workload    Cycles  Energy (pJ)  Utilization (%)\n",
      "ResNet-50   1404928  445080000.0             33.0\n",
      "  AlexNet 145711104 5213610000.0              1.0\n",
      "MobileNet   1204224   92570000.0              4.0\n",
      "\n",
      "Ideal Sparse Architecture:\n",
      " Workload    Cycles  Energy (pJ)  Utilization (%)\n",
      "ResNet-50   1404928  445080000.0             33.0\n",
      "  AlexNet 145711104 5213610000.0              1.0\n",
      "MobileNet   1204224   92570000.0              4.0\n",
      "\n",
      "Improvement Ratios:\n",
      " Workload  Cycle Ratio (Unstructured/Ideal)  Energy Ratio (Unstructured/Ideal)  Utilization Ratio (Ideal/Unstructured)\n",
      "  AlexNet                               1.0                                1.0                                     1.0\n",
      "MobileNet                               1.0                                1.0                                     1.0\n",
      "ResNet-50                               1.0                                1.0                                     1.0\n",
      "\n",
      "Key Observations:\n",
      "------------------------------------------------------------\n",
      "1. Average cycle overhead from sparse metadata: 1.00x\n",
      "2. Average energy overhead from sparse metadata: 1.00x\n",
      "\n",
      "3. Workload-Specific Impact:\n",
      "   - AlexNet: 1.00x cycle overhead, 1.00x energy overhead\n",
      "   - MobileNet: 1.00x cycle overhead, 1.00x energy overhead\n",
      "   - ResNet-50: 1.00x cycle overhead, 1.00x energy overhead\n",
      "\n",
      "4. Recommendations for Hardware Optimization:\n",
      "   - Optimize hardware for sparse metadata handling to reduce cycle and energy overhead\n",
      "   - Focus optimizations on memory levels with highest energy consumption\n",
      "   - Consider workload-specific accelerator configurations based on observed patterns\n"
     ]
    }
   ],
   "source": [
    "import pandas as pd\n",
    "import numpy as np\n",
    "import sys\n",
    "import os\n",
    "import re\n",
    "import matplotlib.pyplot as plt\n",
    "\n",
    "# Function to parse stats directly from the text file\n",
    "def parse_stats_file(stats_file):\n",
    "    if not os.path.exists(stats_file):\n",
    "        print(f\"Warning: Stats file not found: {stats_file}\")\n",
    "        return None\n",
    "    \n",
    "    stats = {'level_energy': {}}\n",
    "    try:\n",
    "        with open(stats_file, 'r') as f:\n",
    "            content = f.read()\n",
    "            \n",
    "            # --- Fix 1: Extract total energy from Summary Stats --- \n",
    "            # Look for \"Energy: VALUE uJ\" in the Summary Stats section\n",
    "            summary_energy_match = re.search(r'Summary Stats\\n-{3,}\\n.*?Energy:\\s+([\\d.]+)\\s+uJ', content, re.DOTALL)\n",
    "            if summary_energy_match:\n",
    "                stats['energy'] = float(summary_energy_match.group(1)) * 1_000_000 # Convert uJ to pJ\n",
    "            else:\n",
    "                # Fallback: Try finding any \"Energy (total)\" line if summary is missing (less reliable)\n",
    "                energy_match = re.search(r'Energy \\(total\\)\\s+:\\s+([\\d.]+)', content)\n",
    "                if energy_match:\n",
    "                    print(f\"Warning: Using fallback total energy parsing for {stats_file}\")\n",
    "                    stats['energy'] = float(energy_match.group(1))\n",
    "                else:\n",
    "                    print(f\"Error: Could not parse total energy from {stats_file}\")\n",
    "                    stats['energy'] = 0 # Assign 0 if unparsable\n",
    "\n",
    "            # Extract cycles (Prefer summary stats if available)\n",
    "            summary_cycles_match = re.search(r'Summary Stats\\n-{3,}\\n.*?Cycles:\\s+(\\d+)', content, re.DOTALL)\n",
    "            if summary_cycles_match:\n",
    "                stats['cycles'] = int(summary_cycles_match.group(1))\n",
    "            else:\n",
    "                # Fallback to first Cycles match\n",
    "                cycles_match = re.search(r'Cycles\\s+:\\s+(\\d+)', content)\n",
    "                if cycles_match:\n",
    "                     print(f\"Warning: Using fallback cycles parsing for {stats_file}\")\n",
    "                     stats['cycles'] = int(cycles_match.group(1))\n",
    "                else:\n",
    "                     stats['cycles'] = 0\n",
    "\n",
    "\n",
    "            # Extract utilization (Prefer summary stats: 0.0-1.0 scale)\n",
    "            summary_util_match = re.search(r'Summary Stats\\n-{3,}\\n.*?Utilization:\\s+([\\d.]+)', content, re.DOTALL)\n",
    "            if summary_util_match:\n",
    "                # Convert utilization (0.0-1.0) to percentage for display consistency\n",
    "                stats['utilization'] = float(summary_util_match.group(1)) \n",
    "            else:\n",
    "                # Fallback: MAC level utilization (Average instances)\n",
    "                # This requires knowing total instances to be meaningful %\n",
    "                util_match = re.search(r'Level 0\\n-{3,}\\n=== MAC ===.*?Utilized instances \\(average\\)\\s+:\\s+([\\d.]+)', content, re.DOTALL)\n",
    "                if util_match:\n",
    "                     print(f\"Warning: Using fallback MAC utilization for {stats_file}. Value is avg instances, not percentage.\")\n",
    "                     # Store the average instance count, not a percentage\n",
    "                     stats['utilization'] = float(util_match.group(1)) \n",
    "                else:\n",
    "                    stats['utilization'] = 0\n",
    "                \n",
    "            # --- Fix 2: Extract per-level energy, summing across tensors --- \n",
    "            # Regex to capture content between \"Level X...\" and the next \"Level Y...\" or end of file\n",
    "            level_pattern = r'(Level\\s+(\\d+)\\n-{3,}\\n=== ([^\\n]+) ===.*?)(?=(Level\\s+\\d+\\n-{3,})|\\Z)'\n",
    "            level_matches = re.finditer(level_pattern, content, re.DOTALL)\n",
    "            \n",
    "            level_energy = {}\n",
    "            parsed_sum = 0.0\n",
    "            for match in level_matches:\n",
    "                level_full_header = match.group(1).strip() # Includes \"Level X...\" etc.\n",
    "                level_num = int(match.group(2))\n",
    "                level_name = match.group(3).strip()\n",
    "                # Content is the full block captured by group 1\n",
    "                level_content = match.group(1) \n",
    "                \n",
    "                # Find *all* \"Energy (total) : VALUE pJ\" lines within this level's block\n",
    "                energy_values = re.findall(r'Energy \\(total\\)\\s+:\\s+([\\d.]+) pJ', level_content)\n",
    "                \n",
    "                # Sum up all found energy values for this level\n",
    "                total_level_energy = sum(float(e.replace(',', '')) for e in energy_values) # Handle potential commas\n",
    "                \n",
    "                level_key = f\"L{level_num}_{level_name}\"\n",
    "                if total_level_energy > 0:\n",
    "                     level_energy[level_key] = total_level_energy\n",
    "                     parsed_sum += total_level_energy\n",
    "                # If a level exists but has 0 energy reported, we might want to record that\n",
    "                elif level_full_header: # Check if the level header was actually found\n",
    "                     level_energy[level_key] = 0.0\n",
    "\n",
    "            stats['level_energy'] = level_energy\n",
    "                \n",
    "        # Add a simple validation check\n",
    "        if stats['energy'] > 0 and not np.isclose(parsed_sum, stats['energy'], rtol=0.1): # Allow 10% tolerance for potential rounding\n",
    "             print(f\"Warning: Sum of parsed level energies ({parsed_sum:,.2f} pJ) doesn't closely match total summary energy ({stats['energy']:,.2f} pJ) for {stats_file}. Check parsing logic or stats file format.\")\n",
    "        elif stats['energy'] == 0 and parsed_sum > 0:\n",
    "             print(f\"Warning: Total summary energy is 0, but parsed level energy sum is {parsed_sum:,.2f} pJ for {stats_file}.\")\n",
    "\n",
    "\n",
    "        return stats\n",
    "    except Exception as e:\n",
    "        print(f\"Critical Error parsing {stats_file}: {e}\")\n",
    "        # Consider logging the error traceback here\n",
    "        return None\n",
    "\n",
    "# Load and process the results for both architectures\n",
    "workloads = [\"resnet50_conv1\", \"alexnet_conv1_sparse\", \"mobilenet_conv1_sparse\"]\n",
    "workload_display_names = {'resnet50_conv1': 'ResNet-50', \n",
    "                          'alexnet_conv1_sparse': 'AlexNet', \n",
    "                          'mobilenet_conv1_sparse': 'MobileNet'}\n",
    "\n",
    "unstructured_results = {}\n",
    "ideal_results = {}\n",
    "\n",
    "for workload in workloads:\n",
    "    # Unstructured sparse architecture results\n",
    "    unstructured_stats_file = f\"../evaluation_setups/unstructured_sparse_eval/outputs/unstructured_{workload}/timeloop-mapper.stats.txt\"\n",
    "    stats = parse_stats_file(unstructured_stats_file)\n",
    "    if stats:\n",
    "        unstructured_results[workload] = stats\n",
    "    \n",
    "    # Ideal sparse architecture results\n",
    "    ideal_stats_file = f\"../evaluation_setups/unstructured_sparse_eval/outputs/ideal_{workload}/timeloop-mapper.stats.txt\"\n",
    "    stats = parse_stats_file(ideal_stats_file)\n",
    "    if stats:\n",
    "        ideal_results[workload] = stats\n",
    "\n",
    "# Create DataFrames for comparison\n",
    "def create_dataframe(results, workloads):\n",
    "    data = []\n",
    "    for workload in workloads:\n",
    "        if workload in results:\n",
    "            row = {\n",
    "                'Workload': workload_display_names[workload],\n",
    "                'Cycles': results[workload].get('cycles', 0),\n",
    "                'Energy (pJ)': results[workload].get('energy', 0),\n",
    "                'Utilization (%)': results[workload].get('utilization', 0) * 100  # Convert to percentage\n",
    "            }\n",
    "            data.append(row)\n",
    "    return pd.DataFrame(data)\n",
    "\n",
    "unstructured_df = create_dataframe(unstructured_results, workloads)\n",
    "ideal_df = create_dataframe(ideal_results, workloads)\n",
    "\n",
    "# Calculate improvement ratios\n",
    "if not unstructured_df.empty and not ideal_df.empty:\n",
    "    # Make sure both dataframes have the same workloads\n",
    "    common_workloads = set(unstructured_df['Workload']).intersection(set(ideal_df['Workload']))\n",
    "    unstructured_filtered = unstructured_df[unstructured_df['Workload'].isin(common_workloads)]\n",
    "    ideal_filtered = ideal_df[ideal_df['Workload'].isin(common_workloads)]\n",
    "    \n",
    "    # Sort both DataFrames by workload to ensure they match\n",
    "    unstructured_filtered = unstructured_filtered.sort_values('Workload').reset_index(drop=True)\n",
    "    ideal_filtered = ideal_filtered.sort_values('Workload').reset_index(drop=True)\n",
    "    \n",
    "    comparison_df = pd.DataFrame({\n",
    "        'Workload': unstructured_filtered['Workload'],\n",
    "        'Cycle Ratio (Unstructured/Ideal)': unstructured_filtered['Cycles'] / ideal_filtered['Cycles'].replace(0, np.nan),\n",
    "        'Energy Ratio (Unstructured/Ideal)': unstructured_filtered['Energy (pJ)'] / ideal_filtered['Energy (pJ)'].replace(0, np.nan),\n",
    "        'Utilization Ratio (Ideal/Unstructured)': ideal_filtered['Utilization (%)'] / unstructured_filtered['Utilization (%)'].replace(0, np.nan)\n",
    "    })\n",
    "else:\n",
    "    comparison_df = pd.DataFrame(columns=['Workload', 'Cycle Ratio (Unstructured/Ideal)', \n",
    "                                          'Energy Ratio (Unstructured/Ideal)', 'Utilization Ratio (Ideal/Unstructured)'])\n",
    "\n",
    "# Energy breakdown by hardware level\n",
    "print(\"Energy Breakdown by Hardware Level:\")\n",
    "print(\"=\" * 60)\n",
    "\n",
    "for arch_name, results in [('Unstructured', unstructured_results), ('Ideal', ideal_results)]:\n",
    "    print(f\"\\n{arch_name} Architecture:\")\n",
    "    \n",
    "    for workload in workloads:\n",
    "        if workload in results and 'level_energy' in results[workload]:\n",
    "            level_energy = results[workload]['level_energy']\n",
    "            total_energy = results[workload].get('energy', 0)\n",
    "            \n",
    "            if level_energy and total_energy > 0:\n",
    "                print(f\"\\n{workload_display_names[workload]}:\")\n",
    "                \n",
    "                for level, energy in level_energy.items():\n",
    "                    percentage = (energy / total_energy) * 100\n",
    "                    print(f\"  {level}: {energy:,.2f} pJ ({percentage:.2f}%)\")\n",
    "            else:\n",
    "                print(f\"\\n{workload_display_names[workload]}: Energy breakdown not available\")\n",
    "\n",
    "# Display the summary analysis\n",
    "print(\"\\nPerformance Comparison: Unstructured vs Ideal\")\n",
    "print(\"=\" * 60)\n",
    "print(\"Unstructured Sparse Architecture:\")\n",
    "if not unstructured_df.empty:\n",
    "    print(unstructured_df.to_string(index=False))\n",
    "else:\n",
    "    print(\"No data available\")\n",
    "\n",
    "print(\"\\nIdeal Sparse Architecture:\")\n",
    "if not ideal_df.empty:\n",
    "    print(ideal_df.to_string(index=False))\n",
    "else:\n",
    "    print(\"No data available\")\n",
    "\n",
    "print(\"\\nImprovement Ratios:\")\n",
    "if not comparison_df.empty:\n",
    "    print(comparison_df.to_string(index=False))\n",
    "else:\n",
    "    print(\"No data available for comparison\")\n",
    "\n",
    "print(\"\\nKey Observations:\")\n",
    "print(\"-\" * 60)\n",
    "\n",
    "if not comparison_df.empty:\n",
    "    # Filter out NaN and infinity values\n",
    "    cycle_ratios = comparison_df['Cycle Ratio (Unstructured/Ideal)'].replace([np.inf, -np.inf], np.nan).dropna()\n",
    "    energy_ratios = comparison_df['Energy Ratio (Unstructured/Ideal)'].replace([np.inf, -np.inf], np.nan).dropna()\n",
    "    \n",
    "    if not cycle_ratios.empty:\n",
    "        avg_cycle_ratio = cycle_ratios.mean()\n",
    "        print(f\"1. Average cycle overhead from sparse metadata: {avg_cycle_ratio:.2f}x\")\n",
    "    else:\n",
    "        print(\"1. Cannot calculate average cycle overhead (insufficient data)\")\n",
    "    \n",
    "    if not energy_ratios.empty:\n",
    "        avg_energy_ratio = energy_ratios.mean()\n",
    "        print(f\"2. Average energy overhead from sparse metadata: {avg_energy_ratio:.2f}x\")\n",
    "    else:\n",
    "        print(\"2. Cannot calculate average energy overhead (insufficient data)\")\n",
    "    \n",
    "    print(\"\\n3. Workload-Specific Impact:\")\n",
    "    for _, row in comparison_df.iterrows():\n",
    "        cycle_ratio = row['Cycle Ratio (Unstructured/Ideal)']\n",
    "        energy_ratio = row['Energy Ratio (Unstructured/Ideal)']\n",
    "        \n",
    "        result_str = f\"   - {row['Workload']}: \"\n",
    "        if not pd.isna(cycle_ratio) and not np.isinf(cycle_ratio):\n",
    "            result_str += f\"{cycle_ratio:.2f}x cycle overhead, \"\n",
    "        else:\n",
    "            result_str += \"cycle data unavailable, \"\n",
    "            \n",
    "        if not pd.isna(energy_ratio) and not np.isinf(energy_ratio):\n",
    "            result_str += f\"{energy_ratio:.2f}x energy overhead\"\n",
    "        else:\n",
    "            result_str += \"energy data unavailable\"\n",
    "            \n",
    "        print(result_str)\n",
    "else:\n",
    "    print(\"Not enough data available for meaningful observations\")\n",
    "\n",
    "print(\"\\n4. Recommendations for Hardware Optimization:\")\n",
    "print(\"   - Optimize hardware for sparse metadata handling to reduce cycle and energy overhead\")\n",
    "print(\"   - Focus optimizations on memory levels with highest energy consumption\")\n",
    "print(\"   - Consider workload-specific accelerator configurations based on observed patterns\")"
   ]
  },
  {
   "cell_type": "code",
   "execution_count": null,
   "id": "a90373a5",
   "metadata": {},
   "outputs": [],
   "source": []
  }
 ],
 "metadata": {
  "kernelspec": {
   "display_name": "Python 3 (ipykernel)",
   "language": "python",
   "name": "python3"
  },
  "language_info": {
   "codemirror_mode": {
    "name": "ipython",
    "version": 3
   },
   "file_extension": ".py",
   "mimetype": "text/x-python",
   "name": "python",
   "nbconvert_exporter": "python",
   "pygments_lexer": "ipython3",
   "version": "3.8.13"
  }
 },
 "nbformat": 4,
 "nbformat_minor": 5
}
